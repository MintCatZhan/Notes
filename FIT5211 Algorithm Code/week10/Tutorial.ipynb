{
 "cells": [
  {
   "cell_type": "code",
   "execution_count": 20,
   "metadata": {
    "collapsed": true
   },
   "outputs": [],
   "source": [
    "class Vertex:\n",
    "    def __init__(self, key):\n",
    "        \"\"\"A Vertex has an id and a set of neighbours.\"\"\"\n",
    "        self.id = key\n",
    "        self.connectedTo = set()\n",
    "\n",
    "    def addNeighbour(self, nbr):\n",
    "        \"\"\"\n",
    "        Add a neighbour.\n",
    "\n",
    "        Parameters:\n",
    "\n",
    "            - nbr: id of the neighbour\n",
    "        \"\"\"\n",
    "        self.connectedTo.add(nbr)\n",
    "\n",
    "    def hasNeighbour(self, nbr):\n",
    "        for i in self.connectedTo:\n",
    "            if i == nbr:\n",
    "                return True\n",
    "        return False\n",
    "\n",
    "    # Getters\n",
    "    def getConnections(self):\n",
    "        return self.connectedTo\n",
    "\n",
    "    def getId(self):\n",
    "        return self.id\n",
    "\n",
    "    def __str__(self):\n",
    "        return str(self.id) + ' connectedTo: ' + \", \".join(\n",
    "            [str(i) for i in self.connectedTo])\n",
    "\n",
    "\n",
    "class Graph:\n",
    "    def __init__(self):\n",
    "        \"\"\"A graph is a dictionary of {id: vertex}.\"\"\"\n",
    "        self.vertList = {}\n",
    "        self.numVertices = 0\n",
    "        # {id: weight}\n",
    "        self.edgeList = {}\n",
    "\n",
    "    def addVertex(self, key):\n",
    "        \"\"\"Add a vertex if it does not exist yet.\"\"\"\n",
    "        newVertex = None\n",
    "\n",
    "        if key not in self.vertList:\n",
    "            self.numVertices = self.numVertices + 1\n",
    "            newVertex = Vertex(key)\n",
    "            self.vertList[key] = newVertex\n",
    "\n",
    "        return newVertex\n",
    "\n",
    "    def addEdge(self, f, t, weight):\n",
    "        \"\"\"\n",
    "        Add an edge between two existing vertices.\n",
    "\n",
    "        Parameters:\n",
    "\n",
    "            - f: id of the first vertex\n",
    "\n",
    "            - t: id of the second vertex\n",
    "\n",
    "        Returns: True if an edge was added; otherwise False\n",
    "        \"\"\"\n",
    "        if f in self.vertList and t in self.vertList:\n",
    "            self.vertList[f].addNeighbour(t)\n",
    "            self.vertList[t].addNeighbour(f)\n",
    "            self.edgeList[f + \",\" + t] = weight\n",
    "\n",
    "            return True\n",
    "        else:\n",
    "            return False\n",
    "\n",
    "    def hasEdge(self, i, j):\n",
    "        \"\"\"\n",
    "        Check whether nodes `i` and `j` are connected.\n",
    "\n",
    "        Parameters:\n",
    "\n",
    "            - i: id of the first node\n",
    "\n",
    "            - j: id of the second node\n",
    "\n",
    "        Returns: whether edge (i, j) exists or not\n",
    "        \"\"\"\n",
    "        for v in self.vertList:\n",
    "            if v == i:\n",
    "                return i.hasNeighbour(j)\n",
    "        return False\n",
    "\n",
    "    # Getters\n",
    "    def getVertex(self, n):\n",
    "        if n in self.vertList:\n",
    "            return self.vertList[n]\n",
    "        else:\n",
    "            return None\n",
    "\n",
    "    def getVertices(self):\n",
    "        return self.vertList.values()\n",
    "\n",
    "    def __contains__(self, n):\n",
    "        \n",
    "        return n in self.vertList\n",
    "\n",
    "    def __iter__(self):\n",
    "        return iter(self.vertList.values())\n",
    "\n",
    "    def __str__(self):\n",
    "        return \"\\n\".join([str(v) for v in self.vertList.values()])\n"
   ]
  },
  {
   "cell_type": "code",
   "execution_count": 21,
   "metadata": {},
   "outputs": [
    {
     "data": {
      "text/plain": [
       "True"
      ]
     },
     "execution_count": 21,
     "metadata": {},
     "output_type": "execute_result"
    }
   ],
   "source": [
    "graph = Graph()\n",
    "graph.addVertex('a') # 0\n",
    "graph.addVertex('b') # 1\n",
    "graph.addVertex('c') # 2\n",
    "graph.addVertex('d') # 3\n",
    "graph.addVertex('e') # 4\n",
    "graph.addVertex('f') # 5\n",
    "graph.addVertex('g') # 6\n",
    "graph.addVertex('h') # 7\n",
    "graph.addVertex('i') # 8\n",
    "graph.addVertex('j') # 9\n",
    "graph.addVertex('k') # 10\n",
    "graph.addVertex('l') # 11\n",
    "\n",
    "graph.addEdge('a', 'b', 11)\n",
    "graph.addEdge('a', 'c', 10)\n",
    "graph.addEdge('a', 'e', 8)\n",
    "graph.addEdge('a', 'g', 6)\n",
    "graph.addEdge('b', 'd', 9)\n",
    "graph.addEdge('b', 'i', 3)\n",
    "graph.addEdge('d', 'i', 4)\n",
    "graph.addEdge('d', 'j', 2)\n",
    "graph.addEdge('e', 'f', 7)\n",
    "graph.addEdge('e', 'h', 5)\n",
    "graph.addEdge('k', 'l', 1)"
   ]
  },
  {
   "cell_type": "code",
   "execution_count": 22,
   "metadata": {},
   "outputs": [
    {
     "name": "stdout",
     "output_type": "stream",
     "text": [
      "['a,b', 'a,c', 'a,e', 'a,g', 'b,d', 'b,i', 'd,i', 'd,j', 'e,f', 'e,h', 'k,l']\n"
     ]
    }
   ],
   "source": [
    "import operator\n",
    "print(sorted(graph.edgeList, key=operator.itemgetter(1)))"
   ]
  },
  {
   "cell_type": "code",
   "execution_count": null,
   "metadata": {
    "collapsed": true
   },
   "outputs": [],
   "source": []
  }
 ],
 "metadata": {
  "kernelspec": {
   "display_name": "Python 3",
   "language": "python",
   "name": "python3"
  },
  "language_info": {
   "codemirror_mode": {
    "name": "ipython",
    "version": 3
   },
   "file_extension": ".py",
   "mimetype": "text/x-python",
   "name": "python",
   "nbconvert_exporter": "python",
   "pygments_lexer": "ipython3",
   "version": "3.6.1"
  }
 },
 "nbformat": 4,
 "nbformat_minor": 2
}
