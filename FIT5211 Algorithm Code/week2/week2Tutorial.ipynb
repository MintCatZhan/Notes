{
 "cells": [
  {
   "cell_type": "code",
   "execution_count": 1,
   "metadata": {},
   "outputs": [
    {
     "name": "stdout",
     "output_type": "stream",
     "text": [
      "input a number: 1\n",
      "The square number is:  1\n"
     ]
    }
   ],
   "source": [
    "def printSquareNum():\n",
    "    txt = input('input a number: ')\n",
    "    num = int(txt)\n",
    "\n",
    "    print(\"The square number is: \", num * num)\n",
    "\n",
    "printSquareNum()"
   ]
  },
  {
   "cell_type": "code",
   "execution_count": 2,
   "metadata": {},
   "outputs": [
    {
     "name": "stdout",
     "output_type": "stream",
     "text": [
      "foud\n"
     ]
    }
   ],
   "source": [
    "def find(L, x):\n",
    "    if len(L) == 0:\n",
    "        print(\"should not be an empty list\")\n",
    "        return\n",
    "\n",
    "    if x is None:\n",
    "        print(\"x is null, not acceptable\")\n",
    "\n",
    "    if isinstance(x, int):\n",
    "        for l in L:\n",
    "            if l == x:\n",
    "                print(\"foud\")\n",
    "                return\n",
    "    else:\n",
    "        print(\"wrong data type, should be an integer\")\n",
    "        return\n",
    "\n",
    "    print(\"not found\")\n",
    "    return\n",
    "\n",
    "find([1,32, \"fd\",2], 2 )"
   ]
  },
  {
   "cell_type": "code",
   "execution_count": 3,
   "metadata": {},
   "outputs": [
    {
     "name": "stdout",
     "output_type": "stream",
     "text": [
      "8\n"
     ]
    }
   ],
   "source": [
    "def getFiboIteratively(n):\n",
    "    cursor1 = 1\n",
    "    cursor2 = 2\n",
    "    i = 1\n",
    "\n",
    "    while i < n:\n",
    "        temp = cursor2\n",
    "        cursor2 = cursor1 + cursor2\n",
    "        cursor1 = temp\n",
    "        i += 1\n",
    "\n",
    "    print(cursor1)\n",
    "\n",
    "getFiboIteratively(5)"
   ]
  },
  {
   "cell_type": "code",
   "execution_count": 7,
   "metadata": {},
   "outputs": [
    {
     "name": "stdout",
     "output_type": "stream",
     "text": [
      "The result is:  8 Using:  1.413381\n"
     ]
    }
   ],
   "source": [
    "import time\n",
    "\n",
    "def getFiboRecursion(n):\n",
    "    if n <= 2:\n",
    "        return n\n",
    "    else:\n",
    "        return getFiboRecursion(n - 1) + getFiboRecursion(n - 2)\n",
    "\n",
    "print(\"The result is: \",getFiboRecursion(5), \"Using: \", time.process_time())"
   ]
  },
  {
   "cell_type": "code",
   "execution_count": 8,
   "metadata": {},
   "outputs": [
    {
     "name": "stdout",
     "output_type": "stream",
     "text": [
      "The fib is(memo):  8 Using:  1.4307109999999998\n"
     ]
    }
   ],
   "source": [
    "import time\n",
    "\n",
    "def memoize(f):\n",
    "    memo = {}\n",
    "\n",
    "    def helper(x):\n",
    "        if x not in memo:\n",
    "            memo[x] = f(x)\n",
    "        return memo[x]\n",
    "    return helper\n",
    "\n",
    "\n",
    "fib = memoize(getFiboRecursion)\n",
    "\n",
    "print(\"The fib is(memo): \", fib(5), \"Using: \", time.process_time())"
   ]
  },
  {
   "cell_type": "code",
   "execution_count": 9,
   "metadata": {},
   "outputs": [
    {
     "name": "stdout",
     "output_type": "stream",
     "text": [
      "Result:  [32, 32, 1, 1, 2, 2, 3, 3]\n"
     ]
    }
   ],
   "source": [
    "class Queue():\n",
    "    def __init__(self):\n",
    "        self.items = []\n",
    "\n",
    "    def isEmpty(self):\n",
    "        return self.items == []\n",
    "\n",
    "    def enqueue(self, item):\n",
    "        self.items.insert(0, item)\n",
    "\n",
    "    def dequeue(self):\n",
    "        return self.items.pop()\n",
    "\n",
    "    def size(self):\n",
    "        return len(self.items)\n",
    "\n",
    "\n",
    "def repeatx2(list):\n",
    "    simQueue = Queue()\n",
    "    result = []\n",
    "\n",
    "    for l in list:\n",
    "        simQueue.enqueue(l)\n",
    "\n",
    "    while not simQueue.isEmpty():\n",
    "        value = simQueue.dequeue()\n",
    "        result.append(value)\n",
    "        result.append(value)\n",
    "\n",
    "    return result\n",
    "\n",
    "print(\"Result: \", repeatx2([32,1,2,3]))"
   ]
  },
  {
   "cell_type": "code",
   "execution_count": null,
   "metadata": {
    "collapsed": true
   },
   "outputs": [],
   "source": []
  }
 ],
 "metadata": {
  "kernelspec": {
   "display_name": "Python 3",
   "language": "python",
   "name": "python3"
  },
  "language_info": {
   "codemirror_mode": {
    "name": "ipython",
    "version": 3
   },
   "file_extension": ".py",
   "mimetype": "text/x-python",
   "name": "python",
   "nbconvert_exporter": "python",
   "pygments_lexer": "ipython3",
   "version": "3.6.1"
  }
 },
 "nbformat": 4,
 "nbformat_minor": 2
}
