{
 "cells": [
  {
   "cell_type": "code",
   "execution_count": 1,
   "metadata": {},
   "outputs": [
    {
     "name": "stdout",
     "output_type": "stream",
     "text": [
      "input a number: 1\n",
      "The square number is:  1\n"
     ]
    }
   ],
   "source": [
    "def printSquareNum():\n",
    "    txt = input('input a number: ')\n",
    "    num = int(txt)\n",
    "\n",
    "    print(\"The square number is: \", num * num)\n",
    "\n",
    "printSquareNum()"
   ]
  },
  {
   "cell_type": "code",
   "execution_count": 2,
   "metadata": {},
   "outputs": [
    {
     "name": "stdout",
     "output_type": "stream",
     "text": [
      "foud\n"
     ]
    }
   ],
   "source": [
    "def find(L, x):\n",
    "    if len(L) == 0:\n",
    "        print(\"should not be an empty list\")\n",
    "        return\n",
    "\n",
    "    if x is None:\n",
    "        print(\"x is null, not acceptable\")\n",
    "\n",
    "    if isinstance(x, int):\n",
    "        for l in L:\n",
    "            if l == x:\n",
    "                print(\"foud\")\n",
    "                return\n",
    "    else:\n",
    "        print(\"wrong data type, should be an integer\")\n",
    "        return\n",
    "\n",
    "    print(\"not found\")\n",
    "    return\n",
    "\n",
    "find([1,32, \"fd\",2], 2 )"
   ]
  },
  {
   "cell_type": "code",
   "execution_count": null,
   "metadata": {
    "collapsed": true
   },
   "outputs": [],
   "source": []
  }
 ],
 "metadata": {
  "kernelspec": {
   "display_name": "Python 3",
   "language": "python",
   "name": "python3"
  },
  "language_info": {
   "codemirror_mode": {
    "name": "ipython",
    "version": 3
   },
   "file_extension": ".py",
   "mimetype": "text/x-python",
   "name": "python",
   "nbconvert_exporter": "python",
   "pygments_lexer": "ipython3",
   "version": "3.6.1"
  }
 },
 "nbformat": 4,
 "nbformat_minor": 2
}
