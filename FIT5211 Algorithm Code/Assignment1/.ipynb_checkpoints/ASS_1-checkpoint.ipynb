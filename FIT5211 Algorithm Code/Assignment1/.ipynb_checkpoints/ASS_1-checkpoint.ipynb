{
 "cells": [
  {
   "cell_type": "markdown",
   "metadata": {},
   "source": [
    "# FIT9059 Programming Assignment - S2 2016\n",
    "\n",
    "## Assessment 1\n",
    "\n",
    "Filename: SEEBAHYANN_27537080_ASS_1.ipynb\n",
    "\n",
    "**Date written:** 08/09/2016\n",
    "\n",
    "**Version:** 1.0\n",
    "\n",
    "**Program:** Python2 kernel; Jupyter Notebook "
   ]
  },
  {
   "cell_type": "markdown",
   "metadata": {},
   "source": [
    "Importing Libraries that will be used for this assignment"
   ]
  },
  {
   "cell_type": "code",
   "execution_count": 1,
   "metadata": {
    "collapsed": true
   },
   "outputs": [],
   "source": [
    "import math\n",
    "import timeit\n",
    "from pandas import *\n",
    "import matplotlib.pyplot as plt\n",
    "%matplotlib inline\n",
    "from random import randint"
   ]
  },
  {
   "cell_type": "markdown",
   "metadata": {},
   "source": [
    "## 1.0. Implementing 'Brute Force' and 'Divide and Conquer' to find the closest pair of points using Manhattan distance"
   ]
  },
  {
   "cell_type": "code",
   "execution_count": 2,
   "metadata": {
    "collapsed": true
   },
   "outputs": [],
   "source": [
    "#defining class Point\n",
    "class Point(object):   \n",
    "    \n",
    "    #creating constructor for class Point and initialise x-coordinate and y-coordinate of object of Point Class\n",
    "    def __init__(self,x,y):\n",
    "        #Defines x and y variables\n",
    "        self.x=x\n",
    "        self.y=y\n",
    "\n",
    "    #creating display method to display point\n",
    "    def __str__(self):\n",
    "        return \"Point(%s,%s)\"%(self.x, self.y)\n",
    "                               \n",
    "    #creating function to calculate shortest distance using mahattan distance principle\n",
    "    def Manhattan(self,point1,point2):\n",
    "        delta_x=point1[0]-point2[0]\n",
    "        delta_y=point1[1]-point2[1]\n",
    "        return abs(delta_x)+abs(delta_y)\n",
    "    \n",
    "#creating class PointsSet to store all points which inherite class Point\n",
    "class PointSet(Point):\n",
    "\n",
    "    #creating function constructor to define empty list        \n",
    "    def __init__(self):\n",
    "        self.items=[]\n",
    "        \n",
    "    #creating function to calculate the length of the List \n",
    "    def size(self):\n",
    "        print \"List Length \",len(self.items)\n",
    "\n",
    "    #creating function to insert Point Object in the List Object of PointSet Class\n",
    "    def insert(self,point):\n",
    "        self.items.insert(0,(point.x,point.y))\n",
    "        \n",
    "    #creating function to delete remove a point from the list\n",
    "    def remove(self,x,y):\n",
    "        self.items.remove((x,y))\n",
    "        \n",
    "    #creating function to display the List of points in the List Object of PointSet Class\n",
    "    def display(self):\n",
    "        print \"The List is \",self.items\n",
    "        \n",
    "    #creating function to display the List of points in the List Object of PointSet Class\n",
    "    def get(self):\n",
    "        return self.items        \n",
    "\n",
    "    #creating function to sort the list\n",
    "    def SortTheList(self):\n",
    "        return self.items.sort()\n",
    "\n",
    "    \n",
    "    #Creating brute force function to calculate shortest distance between two points using the Brute force principle\n",
    "    def bruteForce(self):\n",
    "        #initiate distance\n",
    "        distance=float(\"inf\")\n",
    "        for i in self.items:\n",
    "            for j in self.items:\n",
    "                if i==j:\n",
    "                    pass\n",
    "                else:\n",
    "                    #iterating list point by pont to compare samllest distance\n",
    "                    tmp=super(PointSet,self).Manhattan(i,j)\n",
    "                    if(distance>tmp):\n",
    "                        #if distance between two points is smallest than actual distance, the distance is set as the smallest distance\n",
    "                        distance=tmp\n",
    "                        #assigning point i in point1 variable\n",
    "                        point1=i\n",
    "                        #assigning point i in point1 variable\n",
    "                        point2=j\n",
    "        #dsplaying the two coordinates with smallest distance                \n",
    "        return point1,point2, 'with shortest distance = ',distance\n"
   ]
  },
  {
   "cell_type": "code",
   "execution_count": 3,
   "metadata": {
    "collapsed": true
   },
   "outputs": [],
   "source": [
    "def divideNConquer(L):\n",
    "    \n",
    "    #calculate distance between two coordinates using Manhattan principle\n",
    "    def ManhattanDist(coord1, coord2):\n",
    "        return abs(coord1[0]-coord2[0])+abs(coord1[1]-coord2[1])\n",
    "\n",
    "    #creating list to initiate the list best which will store the best smallest distance at best[0] and the respective two coordinates at best[1]\n",
    "    best = [ManhattanDist(L[0],L[1]), (L[0],L[1])]\n",
    "    \n",
    "    # check whether pair (coord1,coord2) forms a closer pair than one seen already\n",
    "    def testpair(coord1,coord2):\n",
    "        #calculating manhattan distance for two points given as parameter\n",
    "        d = ManhattanDist(coord1,coord2)\n",
    "        # cross check whether distance obtained above is greater than existing smallest distance found in list best\n",
    "        if d < best[0]:\n",
    "            best[0] = d #smallest distance found so far\n",
    "            best[1] = coord1,coord2 #pair of points giving the smallest distance\n",
    "    \n",
    "\n",
    "    # merge two sorted lists by y-coordinate\n",
    "    def mergeSort(A,B):\n",
    "        #initiate index i to 0\n",
    "        i = 0\n",
    "        #initiate index j to 0\n",
    "        j = 0\n",
    "        #creating while loop to merge two sorted list\n",
    "        while i < len(A) or j < len(B):\n",
    "            #comparing points from both list to find smallest point\n",
    "            if j >= len(B) or (i < len(A) and A[i][1] <= B[j][1]):\n",
    "                yield A[i]\n",
    "                i += 1\n",
    "            else:\n",
    "                yield B[j]\n",
    "                j += 1\n",
    "\n",
    "    # Find closest pair recursively; returns all points sorted by y coordinate\n",
    "    def recur(L):\n",
    "        #base step is List of coordinates only have 1 coordinate\n",
    "        if len(L) < 2:\n",
    "            return L\n",
    "        #split list of coordinates into 2\n",
    "        split = len(L)/2\n",
    "        #midpoint is x coordinate where the split was made that is the line used to divide the graph\n",
    "        midpoint = L[split][0]\n",
    "        #The L is splitted and merged until we are left with two coordinates with the smallest distance in between\n",
    "        L = list(mergeSort(recur(L[:split]), recur(L[split:])))\n",
    "        \n",
    "        # Find possible closest pair across split line, with comparison to the smallest distance first defined as best[0]\n",
    "        E = [coord1 for coord1 in L if abs(coord1[0]-midpoint) < best[0]]\n",
    "        for i in range(len(E)):\n",
    "            #compare with next 8 neighbors\n",
    "            for j in range(1,8):\n",
    "                if i+j < len(E):\n",
    "                    testpair(E[i],E[i+j])\n",
    "        return L\n",
    "\n",
    "    #sorting list L\n",
    "    L.sort()\n",
    "    \n",
    "    recur(L)\n",
    "    return best[1], 'with shortest distance = ',best[0]\n"
   ]
  },
  {
   "cell_type": "markdown",
   "metadata": {},
   "source": [
    "## 2.0. Testing 'Brute Force' and 'Divide and Conquer' to find the closest pair of points using Manhattan distance"
   ]
  },
  {
   "cell_type": "code",
   "execution_count": 4,
   "metadata": {
    "collapsed": true
   },
   "outputs": [],
   "source": [
    "#creating 7 corrdinate points using Point class\n",
    "point1 = Point(1,2)\n",
    "point2 = Point(3,4)\n",
    "point3 = Point(2,4)\n",
    "point4 = Point(9,6)\n",
    "point5 = Point(9,4)\n",
    "point6 = Point(12,10)\n",
    "point7 = Point(1,1)\n",
    "\n",
    "#creating an emply list using PointSet class which will be used to keep the points created\n",
    "p = PointSet()\n",
    "\n",
    "#inserting the points created above in the list p using the insert function\n",
    "p.insert(point1)\n",
    "p.insert(point2)\n",
    "p.insert(point3)\n",
    "p.insert(point4)\n",
    "p.insert(point5)\n",
    "p.insert(point6)\n",
    "p.insert(point7)"
   ]
  },
  {
   "cell_type": "code",
   "execution_count": 5,
   "metadata": {},
   "outputs": [
    {
     "name": "stdout",
     "output_type": "stream",
     "text": [
      "The List is  [(1, 1), (12, 10), (9, 4), (9, 6), (2, 4), (3, 4), (1, 2)]\n"
     ]
    },
    {
     "data": {
      "text/plain": [
       "7"
      ]
     },
     "execution_count": 5,
     "metadata": {},
     "output_type": "execute_result"
    }
   ],
   "source": [
    "#calling function display to show the coordinates saved in the list\n",
    "p.display()\n",
    "#displaying the length of the list created/\n",
    "len(p.items)"
   ]
  },
  {
   "cell_type": "code",
   "execution_count": 6,
   "metadata": {},
   "outputs": [
    {
     "data": {
      "text/plain": [
       "((1, 1), (1, 2), 'with shortest distance = ', 1)"
      ]
     },
     "execution_count": 6,
     "metadata": {},
     "output_type": "execute_result"
    }
   ],
   "source": [
    "#calcualte smallest distance between the coordinates using brute force\n",
    "p.bruteForce()"
   ]
  },
  {
   "cell_type": "markdown",
   "metadata": {},
   "source": [
    "The Brute Force returns the shortest of one with the two points (1,1) and (1,2)."
   ]
  },
  {
   "cell_type": "code",
   "execution_count": 7,
   "metadata": {},
   "outputs": [
    {
     "data": {
      "text/plain": [
       "(((1, 1), (1, 2)), 'with shortest distance = ', 1)"
      ]
     },
     "execution_count": 7,
     "metadata": {},
     "output_type": "execute_result"
    }
   ],
   "source": [
    "#calculate smallest distance between the coordinates using divide and conquer\n",
    "divideNConquer(p.get())"
   ]
  },
  {
   "cell_type": "markdown",
   "metadata": {},
   "source": [
    "The Divide and Conquer returns the shortest of one with the two points (1,1) and (1,2) which is the same result of the Brute Force."
   ]
  },
  {
   "cell_type": "markdown",
   "metadata": {},
   "source": [
    "## Comparing Empirical runtime evaluation for the 'Brute Force' and 'Divide and Conquer'"
   ]
  },
  {
   "cell_type": "code",
   "execution_count": 8,
   "metadata": {},
   "outputs": [
    {
     "name": "stdout",
     "output_type": "stream",
     "text": [
      "No of coordinates used for the 15 lists  [15, 30, 45, 60, 75, 90, 105, 120, 135, 150, 165, 180, 195, 210, 225, 240, 255, 270, 285, 300, 315, 330, 345, 360, 375, 390, 405, 420, 435, 450, 465, 480, 495]\n",
      "Lists of execution time for the 15 lists  [0.000964741503005632, 0.0028108664184623555, 0.006216301207941694, 0.01167526848416275, 0.015586382685536936, 0.024913402400713006, 0.02907103531538592, 0.03360950803714216, 0.030117949722824472, 0.03380387856108921, 0.04439470174396187, 0.042197366674462555, 0.05851777463132812, 0.040148179870166834, 0.05444270968312864, 0.07301457620904783, 0.03987124137974629, 0.04377919508479611, 0.050032237062508256, 0.05323342477702697, 0.06681763304109267, 0.0809849528769998, 0.11840325404701557, 0.11788888327022873, 0.1586272858289668, 0.10360264976011835, 0.0976648672907594, 0.10816403608022607, 0.11326507714771528, 0.12524730883737978, 0.13464188416148892, 0.1437480641960014, 0.15230984873864584]\n",
      "Lists of execution time for the 15 lists  [0.0008734821716402347, 0.0010773341845603437, 0.00265047123000196, 0.001466865356535594, 0.002867360290259982, 0.0025615822708798114, 0.0025603970847581925, 0.001618569180104057, 0.003756249881481377, 0.004253632990524836, 0.004365435547998453, 0.0026070144055422295, 0.0037388671516975225, 0.0019030138492948656, 0.003949435219306852, 0.0016545198257934546, 0.0014455320063463395, 0.0016790136723071614, 0.0017382729783884665, 0.0019326435023356847, 0.003973534003779866, 0.001983606505565616, 0.003939953730333734, 0.005029534838151051, 0.0031284962990587584, 0.002298866013918932, 0.002828249148246087, 0.002561187208839355, 0.0027693849042051966, 0.0033809409429657045, 0.0030400024019772154, 0.003224101312870431, 0.003275459378140777]\n"
     ]
    }
   ],
   "source": [
    "#creating empty list bruteForceTime to save execution time for Brute force algorithm\n",
    "bruteForceTime = []\n",
    "#creating empty list dncTime to save execution time for Divide and Conquer algorithm\n",
    "dncTime = []\n",
    "#creating empty list noOfPoints to save the input size (number of coordinates)\n",
    "noOfPoints = []\n",
    "\n",
    "#determining number of input size by creating 15 lists starting with 15 coordinates and increasing accordingly\n",
    "# these list will be used to test the Brute force and Divide and Conquer\n",
    "for y in range(15,500,15):\n",
    "    \n",
    "    #initiating new list of coordinate with name coordinates\n",
    "    coordinates = PointSet()\n",
    "    for x in range(y):\n",
    "        #filling each list of different input size with ramdom coordinates of x and y ranging from 0 to 50\n",
    "        coordinates.insert(Point(randint(0,50),randint(0,50)))\n",
    "        \n",
    "    #calculating excution time for coordinates in the different range list using Brute Force\n",
    "    bruteForceTime.append(timeit.timeit(lambda: coordinates.bruteForce(),number=1))\n",
    "    #calculating excution time for coordinates in the different range list using Divide and Conquer\n",
    "    dncTime.append(timeit.timeit(lambda: divideNConquer(coordinates.get()),number=1))\n",
    "    #appending the each list size\n",
    "    noOfPoints.append(y)\n",
    "    \n",
    "#display the length of the 15 lists\n",
    "print \"No of coordinates used for the 15 lists \", noOfPoints\n",
    "#display the execution time of the 15 lists for brute force\n",
    "print \"Lists of execution time for the 15 lists \", bruteForceTime\n",
    "#display the execution time of the 15 lists for brute force divide and conquer\n",
    "print \"Lists of execution time for the 15 lists \", dncTime"
   ]
  },
  {
   "cell_type": "code",
   "execution_count": 9,
   "metadata": {},
   "outputs": [
    {
     "data": {
      "image/png": "[encoded data removed]",
      "text/plain": [
       "<matplotlib.figure.Figure at 0x9415908>"
      ]
     },
     "metadata": {},
     "output_type": "display_data"
    }
   ],
   "source": [
    "#plotting brute force execution time for the different number of points\n",
    "plt.plot(noOfPoints, bruteForceTime , 'r-' , label='Brute Force', linewidth=2)\n",
    "#plotting Divide and conquer execution time for the different number of points\n",
    "plt.plot(noOfPoints, dncTime , 'g-' , label='Divide and Conquer', linewidth=2)\n",
    "#insert y label on plt\n",
    "plt.ylabel('Execution time')\n",
    "#insert x label on plt\n",
    "plt.xlabel('No of points')\n",
    "#adding legend\n",
    "plt.legend(loc='upper left')\n",
    "#displaying plot\n",
    "plt.show()"
   ]
  },
  {
   "cell_type": "markdown",
   "metadata": {},
   "source": [
    "A brute force technique for solving the closest pair distance run all possibilities, that is compare every points to find the smallest distance. For this case, the Manhattan distance we generate a list of all coordinates (points) and therefore to check all the possible smallest distance between the coordinates, the algorithm will check every combination of every coordinate and find the smallest distance.\n",
    "\n",
    "The Divide and Conquer algorthm is more efficient than the naive O(n2) brute-force algorithm. In fact, the Divide and Conquer algorth above gives recurrence of T(n) = 2 T(n/2) + O(nlogn) with Big o solution O(n log2 n) which implies merging and sorting. The plot is fact shows that as the numbers of records increase, which means that as n increases, the execution time of the brute force algorthm increases. However, the Divide and Conquer algorthm execution time does not increase much as the number of points increases. We can conclude that if we have a very small list of coordinate, the Brute force can be a better option, but for a bigger set of coordinates the Divide and Conquer will be more efficient."
   ]
  },
  {
   "cell_type": "markdown",
   "metadata": {},
   "source": [
    "## Define the runtime recurrence relation that would arise if you would not pass sorted lists down the recursion but instead would sort the lists explicitly on each level of the recursion."
   ]
  },
  {
   "cell_type": "markdown",
   "metadata": {},
   "source": [
    "Using a mergesort function to find the closest pair using divide and conquer may lead the runtime recursion to achieve T(n) = 2T(n/2) + O(n log n) which gives T(n) = O(n log n).\n",
    "\n",
    "The runtime recurrence for this will be as follows:\n",
    "\n",
    " T(n) =  2 T(n/2) + (n log n)\n",
    "    \n",
    "        =  2 [2 T(n/4) + n/2] + n log n\n",
    " \n",
    "        =  4 T(n/4) + 2n log n\n",
    "\n",
    "         = 4 [2 T(n/8) + n/4] + 2n log n\n",
    "\n",
    "         = 8 T(n/8) + 3n log n\n",
    "         \n",
    "         = 16 T(n/16) + 4n log n\n",
    "         \n",
    "         = 2k T(n/2k) + k n log n\n",
    "         \n",
    "and hence replacing t(1) to end the deriviation and implying that we use either \n",
    "\n",
    "       n/2k = 1    OR   n = 2k  OR   log2 n = k\n",
    "\n",
    "we continue the deviation which for k = log2 n:\n",
    "\n",
    "\n",
    "         = 2k T(n/2k) + k n log n\n",
    "\n",
    "         = 2log2 n T(1) + (log2n) n log n\n",
    "\n",
    "         = n + n log2 n log n\n",
    "\n",
    "         = O(n log2 n)\n",
    "\n",
    "\n",
    "However, sorting the lists explicitly on each level of the recursion which result in the algorthm to perform the sort twice, and therefore be acheived using mergesort function to find the closest pair using divide and conquer may lead the runtime recursion to achieve T(n) = 2T(n/2) + O(n log n) + O(n log n) which gives T(n) = O(n log n).\n",
    "\n",
    " T(n) =  2 T(n/2) + (n log n) + (n log n) \n",
    "    \n",
    "        =  2 [2 T(n/4) + n/2] + n log n + n log n \n",
    " \n",
    "        =  4 T(n/4) + 2n log n + 2n log n \n",
    "\n",
    "         = 4 [2 T(n/8) + n/4] + 2n log n + 2n log n \n",
    "\n",
    "         = 8 T(n/8) + 3n log n + 3n log n \n",
    "         \n",
    "         = 16 T(n/16) + 4n log n + 4n log n \n",
    "         \n",
    "         = 2k T(n/2k) + k n log n + k n log n \n",
    "         \n",
    "and hence replacing t(1) to end the deriviation and implying that we use either \n",
    "\n",
    "       n/2k = 1    OR   n = 2k  OR   log2 n = k\n",
    "\n",
    "we continue the deviation which for k = log2 n:\n",
    "\n",
    "\n",
    "         = 2k T(n/2k) + k n log n + k n log n\n",
    "\n",
    "         = 2log2 n T(1) + (log2n) n log n + (log2n) n log n\n",
    "\n",
    "         = n + n log2 n log n\n",
    "\n",
    "         = O(n log2 n)\n"
   ]
  },
  {
   "cell_type": "code",
   "execution_count": null,
   "metadata": {
    "collapsed": true
   },
   "outputs": [],
   "source": []
  }
 ],
 "metadata": {
  "kernelspec": {
   "display_name": "Python 3",
   "language": "python",
   "name": "python3"
  },
  "language_info": {
   "codemirror_mode": {
    "name": "ipython",
    "version": 3
   },
   "file_extension": ".py",
   "mimetype": "text/x-python",
   "name": "python",
   "nbconvert_exporter": "python",
   "pygments_lexer": "ipython3",
   "version": "3.6.1"
  }
 },
 "nbformat": 4,
 "nbformat_minor": 1
}
