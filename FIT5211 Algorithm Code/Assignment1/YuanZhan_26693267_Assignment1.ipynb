{
 "cells": [
  {
   "cell_type": "markdown",
   "metadata": {},
   "source": [
    "# FIT5211 Algorithms and Data Structures"
   ]
  },
  {
   "cell_type": "markdown",
   "metadata": {},
   "source": [
    "### Use the ADT class for points in 2-dimensional Euclidean space discussed in the lecture in Week 2 (see lecture notes), and extend the class this with a distance function for pairwise Manhattan distance."
   ]
  },
  {
   "cell_type": "markdown",
   "metadata": {},
   "source": [
    "<u>Import Libraries</u>"
   ]
  },
  {
   "cell_type": "code",
   "execution_count": 2,
   "metadata": {
    "collapsed": true
   },
   "outputs": [],
   "source": [
    "from math import *\n",
    "import sys\n",
    "import random\n",
    "import timeit\n",
    "import matplotlib.pyplot as plt"
   ]
  },
  {
   "cell_type": "code",
   "execution_count": 3,
   "metadata": {
    "collapsed": true
   },
   "outputs": [],
   "source": [
    "class Point:\n",
    "    def __init__(self, x, y):\n",
    "        self.x = x\n",
    "        self.y = y\n",
    "\n",
    "    def distance_from_origin(self):\n",
    "        return sqrt(self.x * self.x + self.y * self.y)\n",
    "\n",
    "    def distance(self, other):\n",
    "        dx = self.x - other.x\n",
    "        dy = self.y - other.y\n",
    "        return sqrt(dx * dx + dy * dy)\n",
    "\n",
    "    def translate(self, dx, dy):\n",
    "        self.x += dx\n",
    "        self.y += dy\n",
    "\n",
    "    def __str__(self):\n",
    "        return \"(\" + str(self.x) + \", \" + str(self.y) + \")\"\n",
    "\n",
    "    # return the Manhattan distance of two points\n",
    "    # |x_1 - x_2| + |y_1 - y_2|\n",
    "    def distance_Manhattan(self, other):\n",
    "        return abs(self.x - other.x) + abs(self.y - other.y)"
   ]
  },
  {
   "cell_type": "markdown",
   "metadata": {},
   "source": [
    "### Based on this point class, implement an ADT class that models a **point set**. It will need a **constructor** as well as functions to **insert** and **delete** points in the set (you do not need to implement union, intersection, or other set operations at this point).\n",
    "\n",
    "### Extend the point set class with a method to find the closest pair of points. Your method should **return the coordinates of the two points that have the smallest pairwise distance** in the set as well as this distance. Bear in mind that we are now using Manhattan distance. Give a brief discussion what (if anything) you need to change in the algorithm to accomodate Manhattan distance and justify your answer_ precisely. Implement two diff erent versions as methods in the point set class you have implemented above:\n",
    "\n",
    "- a. Implement the naive O(n^2 ) ** brute-force ** algorithm. \n",
    "- b. Implement the **divide-and-conquer** algorithm."
   ]
  },
  {
   "cell_type": "code",
   "execution_count": 4,
   "metadata": {
    "collapsed": true
   },
   "outputs": [],
   "source": [
    "# question 2\n",
    "class PointSet:\n",
    "    def __init__(self):\n",
    "        self.items = []\n",
    "\n",
    "    def insert(self, x):\n",
    "        self.items.append(x)\n",
    "\n",
    "    def delete(self, x):\n",
    "        self.items.remove(x)\n",
    "    \n",
    "    def __str__(self):\n",
    "        content = \"\"\n",
    "        for i in self.items:\n",
    "            content = content + str(i)\n",
    "        return content\n",
    "        \n",
    "    # question 3.a brute-force\n",
    "    def closetPointBF(self, l):\n",
    "        result = [None] * 2\n",
    "        if len(l) < 2:\n",
    "            result[0] = l[0]\n",
    "            tempPoint = Point(sys.maxsize, sys.maxsize)\n",
    "            result[1] = tempPoint\n",
    "            return result\n",
    "\n",
    "        dmin = sys.maxsize\n",
    "        for i in range(len(l) - 1):\n",
    "            for j in range(i + 1, len(l)):\n",
    "                tmpmin = l[i].distance_Manhattan(l[j])\n",
    "                if tmpmin < dmin and tmpmin != 0:\n",
    "                    dmin = tmpmin\n",
    "                    result[0] = l[i]\n",
    "                    result[1] = l[j]\n",
    "        return result\n",
    "    \n",
    "    # question 3.b divide-and-conquer\n",
    "    def closePairOfPointsDandC(self, l):\n",
    "        # brute force if the num of points is not much\n",
    "        if len(l) <= 10:\n",
    "            return self.closetPointBF(l)\n",
    "        else:\n",
    "            # get the mid point of all points by their Xs\n",
    "            minX = sys.maxsize # initial min X big enough\n",
    "            maxX = -sys.maxsize - 1 # initial max X small enough\n",
    "            for p in l:\n",
    "                if p.x < minX:\n",
    "                    minX = p.x\n",
    "                if p.x > maxX:\n",
    "                    maxX = p.x\n",
    "            midX = (minX + maxX) // 2\n",
    "\n",
    "            # split into 2 different list\n",
    "            leftList = []\n",
    "            rightList = []\n",
    "            for point in l:\n",
    "                if point.x <= midX:\n",
    "                    leftList.append(point)\n",
    "                if point.x > midX:\n",
    "                    rightList.append(point)\n",
    "\n",
    "            sorted(leftList,key = lambda p:p.x)\n",
    "            sorted(rightList, key = lambda p: p.x)\n",
    "\n",
    "            # get the pair of points that are closest from left half and right half\n",
    "            leftResult = self.closePairOfPointsDandC(leftList)\n",
    "            rightResult = self.closePairOfPointsDandC(rightList)\n",
    "            # get the minmum distance of two sides\n",
    "            dist1 = leftResult[0].distance_Manhattan(leftResult[1])\n",
    "            dist2 = rightResult[0].distance_Manhattan(rightResult[1])\n",
    "\n",
    "            minDist = sys.maxsize\n",
    "            result = [None] * 2\n",
    "\n",
    "            if dist1 <= dist2 and dist1 != 0:\n",
    "                minDist = dist1\n",
    "                result = leftResult\n",
    "            if dist1 > dist2 and dist2 != 0:\n",
    "                minDist = dist2\n",
    "                result = rightResult\n",
    "\n",
    "            midList = []\n",
    "            for point in leftList:\n",
    "                if midX - point.x < minDist:\n",
    "                    midList.append(point)\n",
    "            for point in rightList:\n",
    "                if point.x - midX < minDist:\n",
    "                    midList.append(point)\n",
    "            sorted(midList, key = lambda p:p.y)\n",
    "\n",
    "            # get possible pair of points from leftMidLineList and rightMidLineList\n",
    "            if len(midList) < 10 and len(midList) >= 2:\n",
    "                if midList[0].distance_Manhattan(midList[1]) < minDist \\\n",
    "                        and midList[0].distance_Manhattan(midList[1]) != 0:\n",
    "                    result = midList\n",
    "            else:\n",
    "                for i in range(len(midList) - 7):\n",
    "                    for j in range(1, 8):\n",
    "                        if i + j >= len(midList):\n",
    "                            break\n",
    "                        else:\n",
    "                            tempd = midList[i].distance_Manhattan(midList[i + j])\n",
    "                            if tempd < minDist and tempd != 0:\n",
    "                                result[0] = midList[i]\n",
    "                                result[1] = midList[i + j]\n",
    "            return result"
   ]
  },
  {
   "cell_type": "markdown",
   "metadata": {},
   "source": [
    "### Perform an ** empirical runtime evaluation ** for both your algorithms using the Python timeit library. Plot runtime graphs for both algorithms for a reasonable rage of input sizes (you do not need to plot these using Python, but you are of course welcome to do so). Discuss briefly whether your plots substantiate your expectations."
   ]
  },
  {
   "cell_type": "code",
   "execution_count": 5,
   "metadata": {},
   "outputs": [
    {
     "name": "stdout",
     "output_type": "stream",
     "text": [
      "The list of numbers of points for testing: [10, 20, 30, 40, 50, 60, 70, 80, 90, 100, 110, 120, 130, 140, 150, 160, 170, 180, 190, 200, 210, 220, 230, 240, 250, 260, 270, 280, 290, 300, 310, 320, 330, 340, 350, 360, 370, 380, 390, 400, 410, 420, 430, 440, 450, 460, 470, 480, 490, 500, 510, 520, 530, 540, 550, 560, 570, 580, 590, 600, 610, 620, 630, 640, 650, 660, 670, 680, 690, 700, 710, 720, 730, 740, 750, 760, 770, 780, 790, 800, 810, 820, 830, 840, 850, 860, 870, 880, 890, 900, 910, 920, 930, 940, 950, 960, 970, 980, 990]\n",
      "The time cost by using brute-force algorithm: [0.00014662199828308076, 0.0002841850000550039, 0.0010712319999583997, 0.0008716230004210956, 0.0016828730003908277, 0.002187001002312172, 0.0029027280033915304, 0.004290184995625168, 0.00467763000051491, 0.004876276005234104, 0.005341096002666745, 0.007227955000416841, 0.006990526002482511, 0.009084163000807166, 0.01092812199931359, 0.010568683996098116, 0.012376500999380369, 0.014804432001255918, 0.016236128998571075, 0.016536363000341225, 0.02004981900245184, 0.01969310700224014, 0.024209666000388097, 0.02449389899993548, 0.027806773003248964, 0.030591674003517255, 0.03198964199691545, 0.03295526899455581, 0.03646543999639107, 0.038442805998784024, 0.043652006999764126, 0.043816708006488625, 0.046888609998859465, 0.04892911999922944, 0.05181216000346467, 0.06336188099521678, 0.06370636999781709, 0.06705485499696806, 0.06827399999747286, 0.06233665099716745, 0.07273503600299591, 0.07842763700318756, 0.09024846700049238, 0.08975587999884738, 0.0837619869998889, 0.09301330900052562, 0.09325484599685296, 0.0980920169968158, 0.10139692600205308, 0.10219678500288865, 0.09911364300205605, 0.1064934180030832, 0.11098711699742125, 0.11925331599923084, 0.12358312900323654, 0.12626788600027794, 0.13137996499426663, 0.13640257799852407, 0.13247332999890205, 0.14543896700342884, 0.14512201899924548, 0.15160597799695097, 0.15612583800248103, 0.15545356099755736, 0.1669287160038948, 0.17957563399977516, 0.21652440699836006, 0.19278390600084094, 0.19630465199588798, 0.20711289300379576, 0.21180695400107652, 0.20377485200151568, 0.20825928300473606, 0.2218171509957756, 0.23300805799954105, 0.2226898959997925, 0.27172329199675005, 0.3687367019956582, 0.27874065400101244, 0.3712386229963158, 0.3220526629957021, 0.36737215900211595, 0.341467101003218, 0.3290569750024588, 0.3349372790034977, 0.34490784300578525, 0.3208498009989853, 0.3275809360056883, 0.36701872399862623, 0.36592499099788256, 0.35869545500463573, 0.38138099500065437, 0.3956105489996844, 0.42584740000165766, 0.4153897180003696, 0.3941240049971384, 0.44726947200251743, 0.4409280760010006, 0.427836651004327]\n",
      "The time cost by using divide-and-conquer algorithm: [0.00011777300096582621, 0.0005725730006815866, 0.0007543199972133152, 0.0006129180037532933, 0.0009726350035634823, 0.001716838996799197, 0.0012898249988211319, 0.0014863549949950539, 0.0017601180006749928, 0.0013990140068926848, 0.0019349930007592775, 0.0018535970011726022, 0.001853991998359561, 0.0030592499970225617, 0.0025314140002592467, 0.002437718998407945, 0.003409270000702236, 0.002663136001501698, 0.003488884998660069, 0.0030918060001567937, 0.003184376997523941, 0.0033122290042228997, 0.004072677002113778, 0.0037445229972945526, 0.004153708003286738, 0.005414423001639079, 0.0054212340037338436, 0.005807117995573208, 0.0052396019964362495, 0.0050625490039237775, 0.005592884997895453, 0.0059997860007570125, 0.005960608999885153, 0.006582025998795871, 0.008070301002589986, 0.009718985995277762, 0.00791797000420047, 0.008697041994309984, 0.008392566996917594, 0.007168825999542605, 0.008972433999588247, 0.0094694330036873, 0.01063298500230303, 0.008792621003522072, 0.008228837999922689, 0.007924575998913497, 0.00866831299936166, 0.008749246000661515, 0.00912783700186992, 0.009065812002518214, 0.011990405997494236, 0.00913278000371065, 0.011109641003713477, 0.010733570998127107, 0.010366251997766085, 0.010587760996713769, 0.010851710001588799, 0.011172143000294454, 0.0108337850033422, 0.012487898995459545, 0.012225799000589177, 0.011318926000967622, 0.011675649999233428, 0.012627877993509173, 0.012354911996226292, 0.015635673997167032, 0.01830073299788637, 0.01704479500040179, 0.018330840997805353, 0.015506499003095087, 0.013842660999216605, 0.015110013999219518, 0.014791268004046287, 0.01675773000170011, 0.01432453600136796, 0.01909068199893227, 0.01568825299909804, 0.019491920997097623, 0.017139798001153395, 0.01878312399639981, 0.01745837600174127, 0.019737283000722528, 0.01924368500476703, 0.02228758000273956, 0.019985835999250412, 0.021073795003758278, 0.01803916600329103, 0.022765503003029153, 0.02329215800273232, 0.022297630006505642, 0.025270794998505153, 0.025396324002940673, 0.024178931998903863, 0.025477903000137303, 0.024820363003527746, 0.023354319993813988, 0.02634153100370895, 0.023994686001969967, 0.022861072000523563]\n"
     ]
    }
   ],
   "source": [
    "bfTime = []\n",
    "dncTime = []\n",
    "noOfPoints = []\n",
    "def testBF(numOfPoints):\n",
    "    ps = PointSet()\n",
    "    for i in range(numOfPoints):\n",
    "        p = Point(random.randint(1, 2000), random.randint(1, 2000))\n",
    "        ps.insert(p)\n",
    "    r = ps.closetPointBF(ps.items)\n",
    "    \n",
    "def testDC(numOfPoints):\n",
    "    ps = PointSet()\n",
    "    for i in range(numOfPoints):\n",
    "        p = Point(random.randint(1, 2000), random.randint(1, 2000))\n",
    "        ps.insert(p)\n",
    "    r = ps.closePairOfPointsDandC(ps.items)\n",
    "\n",
    "if __name__=='__main__':\n",
    "    from timeit import Timer\n",
    "    for numOfPoints in range(10, 1000, 10):\n",
    "        tBF = Timer(lambda: testBF(numOfPoints)).timeit(number=1)\n",
    "        tDC = Timer(lambda: testDC(numOfPoints)).timeit(number=1)\n",
    "        bfTime.append(tBF)\n",
    "        dncTime.append(tDC)\n",
    "        noOfPoints.append(numOfPoints)\n",
    "    print(\"The list of numbers of points for testing:\", noOfPoints)\n",
    "    print(\"The time cost by using brute-force algorithm:\", bfTime)\n",
    "    print(\"The time cost by using divide-and-conquer algorithm:\", dncTime)"
   ]
  },
  {
   "cell_type": "code",
   "execution_count": 6,
   "metadata": {},
   "outputs": [
    {
     "data": {
      "image/png": "[encoded data removed]",
      "text/plain": [
       "<matplotlib.figure.Figure at 0x112aa4a90>"
      ]
     },
     "metadata": {},
     "output_type": "display_data"
    }
   ],
   "source": [
    "plt.plot(noOfPoints, bfTime , 'r-' , label='Brute-Force', linewidth=1)\n",
    "plt.plot(noOfPoints, dncTime , 'b-' , label='Divide-and-Conquer', linewidth=1)\n",
    "plt.ylabel('Execution time')\n",
    "plt.xlabel('Number of points')\n",
    "plt.legend(loc='upper left')\n",
    "plt.show()"
   ]
  },
  {
   "cell_type": "markdown",
   "metadata": {},
   "source": [
    "From the picture above we can easily find that, with the increasing of the number of points, **the time that used by using \"Brute-Force\" is quite longer than the \"Divide-and-Conquer\"**. The graph of the execution time of the \"Brute-Force\" one is like the the function of y = x^2, which is like the time complexity (**O(n^)**) of it. While the \"Divide-and-Conquer\"'s graph fits the graph of function y = nlogn, which can be said as \"substantiating my expectations\" that the time complexity of \"Divide-and-Conquer\" is **O(nlogn)**."
   ]
  },
  {
   "cell_type": "markdown",
   "metadata": {},
   "source": [
    "### Define the runtime recurrence relation that would arise if you would not pass sorted lists down the recursion but instead would sort the lists explicitly on each level of the recursion"
   ]
  },
  {
   "cell_type": "markdown",
   "metadata": {},
   "source": [
    "As we discussed during the lecture before, the runtime recurrence relation of passing \"pre-sorting\" lists to the function is like: \n",
    "\n",
    "* T(1) = O(1)\n",
    "* T(n) = 2\\*T(n/2) + O(n) + O(1) + O(n) + O(1)\n",
    "\n",
    "And actually, when we are trying to use \"sorted()\" function inside the \"Divide-and-Conquer\" algorithm, which is using the \"TimSort\" algorithm and its worst case time complexity is O(nlogn), so the runtime recurrence relation should be like:\n",
    "\n",
    "* T(1) = O(1)\n",
    "* T(n) = 2 \\* T(n/2) + O(n) + O(1) + O(n) + O(1) + 3 \\* O(nlogn)\n",
    "\n",
    "so:\n",
    "* T(n) = k \\* T(n/k) + 3(k - 1)O(nlogn)\n",
    "\n",
    "as a result, the time complexity of \"Divide-and-Conquer\" funtion should be ** O(nlogn) ** "
   ]
  },
  {
   "cell_type": "code",
   "execution_count": null,
   "metadata": {
    "collapsed": true
   },
   "outputs": [],
   "source": []
  }
 ],
 "metadata": {
  "kernelspec": {
   "display_name": "Python 3",
   "language": "python",
   "name": "python3"
  },
  "language_info": {
   "codemirror_mode": {
    "name": "ipython",
    "version": 3
   },
   "file_extension": ".py",
   "mimetype": "text/x-python",
   "name": "python",
   "nbconvert_exporter": "python",
   "pygments_lexer": "ipython3",
   "version": "3.6.1"
  }
 },
 "nbformat": 4,
 "nbformat_minor": 2
}
