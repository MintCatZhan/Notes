{
 "cells": [
  {
   "cell_type": "markdown",
   "metadata": {},
   "source": [
    "# FIT5211 Algorithms and Data Structures"
   ]
  },
  {
   "cell_type": "markdown",
   "metadata": {},
   "source": [
    "### Use the ADT class for points in 2-dimensional Euclidean space discussed in the lecture in Week 2 (see lecture notes), and extend the class this with a distance function for pairwise Manhattan distance."
   ]
  },
  {
   "cell_type": "markdown",
   "metadata": {},
   "source": [
    "<u>Import Libraries</u>"
   ]
  },
  {
   "cell_type": "code",
   "execution_count": 1,
   "metadata": {
    "collapsed": true
   },
   "outputs": [],
   "source": [
    "from math import *\n",
    "import sys\n",
    "import random\n",
    "import timeit\n",
    "import matplotlib.pyplot as plt"
   ]
  },
  {
   "cell_type": "code",
   "execution_count": 2,
   "metadata": {
    "collapsed": true
   },
   "outputs": [],
   "source": [
    "class Point:\n",
    "    def __init__(self, x, y):\n",
    "        self.x = x\n",
    "        self.y = y\n",
    "\n",
    "    def distance_from_origin(self):\n",
    "        return sqrt(self.x * self.x + self.y * self.y)\n",
    "\n",
    "    def distance(self, other):\n",
    "        dx = self.x - other.x\n",
    "        dy = self.y - other.y\n",
    "        return sqrt(dx * dx + dy * dy)\n",
    "\n",
    "    def translate(self, dx, dy):\n",
    "        self.x += dx\n",
    "        self.y += dy\n",
    "\n",
    "    def __str__(self):\n",
    "        return \"(\" + str(self.x) + \", \" + str(self.y) + \")\"\n",
    "\n",
    "    # return the Manhattan distance of two points\n",
    "    # |x_1 - x_2| + |y_1 - y_2|\n",
    "    def distance_Manhattan(self, other):\n",
    "        return abs(self.x - other.x) + abs(self.y - other.y)"
   ]
  },
  {
   "cell_type": "markdown",
   "metadata": {},
   "source": [
    "### Based on this point class, implement an ADT class that models a **point set**. It will need a **constructor** as well as functions to **insert** and **delete** points in the set (you do not need to implement union, intersection, or other set operations at this point).\n",
    "\n",
    "### Extend the point set class with a method to find the closest pair of points. Your method should **return the coordinates of the two points that have the smallest pairwise distance** in the set as well as this distance. Bear in mind that we are now using Manhattan distance. Give a brief discussion what (if anything) you need to change in the algorithm to accomodate Manhattan distance and justify your answer_ precisely. Implement two diff erent versions as methods in the point set class you have implemented above:\n",
    "\n",
    "- a. Implement the naive O(n^2 ) ** brute-force ** algorithm. \n",
    "- b. Implement the **divide-and-conquer** algorithm."
   ]
  },
  {
   "cell_type": "code",
   "execution_count": 11,
   "metadata": {
    "collapsed": true
   },
   "outputs": [],
   "source": [
    "# question 2\n",
    "class PointSet:\n",
    "    def __init__(self):\n",
    "        self.items = []\n",
    "\n",
    "    def insert(self, x):\n",
    "        self.items.append(x)\n",
    "\n",
    "    def delete(self, x):\n",
    "        self.items.remove(x)\n",
    "    \n",
    "    def __str__(self):\n",
    "        content = \"\"\n",
    "        for i in self.items:\n",
    "            content = content + str(i)\n",
    "        return content\n",
    "        \n",
    "    # question 3.a brute-force\n",
    "    def closetPointBF(self, l):\n",
    "        result = [None] * 2\n",
    "        if len(l) < 2:\n",
    "            result[0] = l[0]\n",
    "            tempPoint = Point(sys.maxsize, sys.maxsize)\n",
    "            result[1] = tempPoint\n",
    "            return result\n",
    "\n",
    "        dmin = sys.maxsize\n",
    "        for i in range(len(l) - 1):\n",
    "            for j in range(i + 1, len(l)):\n",
    "                tmpmin = l[i].distance_Manhattan(l[j])\n",
    "                if tmpmin < dmin and tmpmin != 0:\n",
    "                    dmin = tmpmin\n",
    "                    result[0] = l[i]\n",
    "                    result[1] = l[j]\n",
    "        return result\n",
    "    \n",
    "    # question 3.b divide-and-conquer\n",
    "    def closePairOfPointsDandC(self, l):\n",
    "        # brute force if the num of points is not much\n",
    "        if len(l) <= 10:\n",
    "            return self.closetPointBF(l)\n",
    "        else:\n",
    "            # get the mid point of all points by their Xs\n",
    "            minX = sys.maxsize # initial min X big enough\n",
    "            maxX = -sys.maxsize - 1 # initial max X small enough\n",
    "            for p in l:\n",
    "                if p.x < minX:\n",
    "                    minX = p.x\n",
    "                if p.x > maxX:\n",
    "                    maxX = p.x\n",
    "            midX = (minX + maxX) // 2\n",
    "\n",
    "            # split into 2 different list\n",
    "            leftList = []\n",
    "            rightList = []\n",
    "            for point in l:\n",
    "                if point.x <= midX:\n",
    "                    leftList.append(point)\n",
    "                if point.x > midX:\n",
    "                    rightList.append(point)\n",
    "\n",
    "            sorted(leftList,key = lambda p:p.x)\n",
    "            sorted(rightList, key = lambda p: p.x)\n",
    "\n",
    "            # get the pair of points that are closest from left half and right half\n",
    "            leftResult = self.closePairOfPointsDandC(leftList)\n",
    "            rightResult = self.closePairOfPointsDandC(rightList)\n",
    "            # get the minmum distance of two sides\n",
    "            dist1 = leftResult[0].distance_Manhattan(leftResult[1])\n",
    "            dist2 = rightResult[0].distance_Manhattan(rightResult[1])\n",
    "\n",
    "            minDist = sys.maxsize\n",
    "            result = [None] * 2\n",
    "\n",
    "            if dist1 <= dist2 and dist1 != 0:\n",
    "                minDist = dist1\n",
    "                result = leftResult\n",
    "            if dist1 > dist2 and dist2 != 0:\n",
    "                minDist = dist2\n",
    "                result = rightResult\n",
    "\n",
    "            midList = []\n",
    "            for point in leftList:\n",
    "                if midX - point.x < minDist:\n",
    "                    midList.append(point)\n",
    "            for point in rightList:\n",
    "                if point.x - midX < minDist:\n",
    "                    midList.append(point)\n",
    "            sorted(midList, key = lambda p:p.y)\n",
    "\n",
    "            # get possible pair of points from leftMidLineList and rightMidLineList\n",
    "            if len(midList) < 10 and len(midList) >= 2:\n",
    "                if midList[0].distance_Manhattan(midList[1]) < minDist \\\n",
    "                        and midList[0].distance_Manhattan(midList[1]) != 0:\n",
    "                    result = midList\n",
    "            else:\n",
    "                for i in range(len(midList) - 7):\n",
    "                    for j in range(1, 8):\n",
    "                        if i + j >= len(midList):\n",
    "                            break\n",
    "                        else:\n",
    "                            tempd = midList[i].distance_Manhattan(midList[i + j])\n",
    "                            if tempd < minDist and tempd != 0:\n",
    "                                result[0] = midList[i]\n",
    "                                result[1] = midList[i + j]\n",
    "            return result"
   ]
  },
  {
   "cell_type": "markdown",
   "metadata": {},
   "source": [
    "### Perform an ** empirical runtime evaluation ** for both your algorithms using the Python timeit library. Plot runtime graphs for both algorithms for a reasonable rage of input sizes (you do not need to plot these using Python, but you are of course welcome to do so). Discuss briefly whether your plots substantiate your expectations."
   ]
  },
  {
   "cell_type": "code",
   "execution_count": 26,
   "metadata": {},
   "outputs": [
    {
     "name": "stdout",
     "output_type": "stream",
     "text": [
      "The list of numbers of points for testing: [10, 20, 30, 40, 50, 60, 70, 80, 90, 100, 110, 120, 130, 140, 150, 160, 170, 180, 190, 200, 210, 220, 230, 240, 250, 260, 270, 280, 290, 300, 310, 320, 330, 340, 350, 360, 370, 380, 390, 400, 410, 420, 430, 440, 450, 460, 470, 480, 490, 500, 510, 520, 530, 540, 550, 560, 570, 580, 590, 600, 610, 620, 630, 640, 650, 660, 670, 680, 690, 700, 710, 720, 730, 740, 750, 760, 770, 780, 790, 800, 810, 820, 830, 840, 850, 860, 870, 880, 890, 900, 910, 920, 930, 940, 950, 960, 970, 980, 990]\n",
      "The time cost by using brute-force algorithm: [0.00012768599845003337, 0.00028522299908217974, 0.0005319569972925819, 0.0008537770008842926, 0.00230403000023216, 0.0034084360013366677, 0.0034142430013162084, 0.0033479449994047172, 0.00802813400150626, 0.008006923999346327, 0.009118535999732558, 0.009457152998948004, 0.007489750001695938, 0.008601980000094045, 0.009678755999630084, 0.010901646001002518, 0.012060273002134636, 0.015600364000420086, 0.01507412100181682, 0.020174833000055514, 0.02718893599740113, 0.026415773998451186, 0.026222151002002647, 0.027609171000221977, 0.030124036999040982, 0.030501285997161176, 0.031240601998433704, 0.0316573510026501, 0.034175602999312105, 0.03985519300113083, 0.06734204500025953, 0.07703777999995509, 0.0684136000018043, 0.05184868500145967, 0.05457143500098027, 0.059962609000649536, 0.06698952900114818, 0.06845542199880583, 0.06225700800132472, 0.066659267002251, 0.0726559980030288, 0.0765968449995853, 0.08089986999766552, 0.08354480100024375, 0.0855922949995147, 0.09112757900220458, 0.09492641600081697, 0.09640213600141578, 0.10213082100017346, 0.10507463800240657, 0.11151307899854146, 0.1123666300009063, 0.11910974499915028, 0.12662443600129336, 0.12480105400027242, 0.13163745400015614, 0.13783389699892723, 0.14375862700035213, 0.15095186999678845, 0.15232041999843204, 0.1582771169996704, 0.16349694000018644, 0.17080410700145876, 0.18140154300272116, 0.17443516200000886, 0.1896415640003397, 0.3451900410000235, 0.19040872499681427, 0.1908817840012489, 0.260125569999218, 0.19870547999744304, 0.20814920999691822, 0.25263049400018645, 0.21394104000137304, 0.21605649499906576, 0.22507430399855366, 0.22295345100064878, 0.23230139199949917, 0.23783633600032772, 0.24542176500108326, 0.25211843099896214, 0.262581187998876, 0.2609036199974071, 0.2664366280005197, 0.2727090309999767, 0.2867554270014807, 0.2866400480015727, 0.29733275699982187, 0.29679196600045543, 0.3126550410015625, 0.3145041220013809, 0.3487865450006211, 0.3324500769995211, 0.33410297600130434, 0.3462548440002138, 0.3525855000007141, 0.3593261440000788, 0.37626581500080647, 0.37494420999792055]\n",
      "The time cost by using divide-and-conquer algorithm: [0.00011408299906179309, 0.0002504439980839379, 0.0003827279979304876, 0.0005191540003579576, 0.0012996709992876276, 0.001753517997713061, 0.0010998020006809384, 0.002407285999652231, 0.0025410980015294626, 0.0030404520002775826, 0.0028933150024386123, 0.001780892998795025, 0.00201440699675004, 0.0020998379986849613, 0.002251910002087243, 0.0026818010010174476, 0.0031573630003549624, 0.002967833002912812, 0.0033320699985779356, 0.004373334999399958, 0.009151764999842271, 0.005099328998767305, 0.00509373899694765, 0.004109099998458987, 0.0043569640001805965, 0.004450150998309255, 0.004861352001171326, 0.005185655998502625, 0.00482796900178073, 0.005493206001119688, 0.010292818999005249, 0.010111610001331428, 0.008276144999399548, 0.006470809999882476, 0.007600837998325005, 0.0064958959992509335, 0.009960706000128994, 0.008848771998600569, 0.009416937999048969, 0.007915333000710234, 0.008759981999901356, 0.008497146001900546, 0.00749595299930661, 0.010145847001695074, 0.00920514600147726, 0.010961681000480894, 0.01090051099890843, 0.010416541997983586, 0.008975316002761247, 0.011499277999973856, 0.011574153999390546, 0.01165738599956967, 0.010273653999320231, 0.010960971998429159, 0.011317412001517368, 0.013261021002108464, 0.01299687500068103, 0.011839564998808783, 0.011717328998201992, 0.012275725999643328, 0.013637964002555236, 0.013661897002748447, 0.01298502299687243, 0.01370422500258428, 0.012428910999005893, 0.020542717997159343, 0.025956735997169744, 0.012510729000496212, 0.021390972997323843, 0.013792918998660753, 0.015272453001671238, 0.013074257996777305, 0.020439564999833237, 0.014565774003131082, 0.015072684000188019, 0.016191955000977032, 0.014704147997690598, 0.015297173998988, 0.01733573800083832, 0.015348312001151498, 0.015871335999690928, 0.01704898400203092, 0.015985260000888957, 0.020724907000840176, 0.020340368999313796, 0.016974472000583773, 0.016925342999456916, 0.021127632000570884, 0.01793582399841398, 0.01820559299812885, 0.017843659999925876, 0.022959507998166373, 0.01937862499835319, 0.019838060998154106, 0.020004534999316093, 0.020598038001480745, 0.024496985999576282, 0.01972576999833109, 0.020551154997519916]\n"
     ]
    }
   ],
   "source": [
    "bfTime = []\n",
    "dncTime = []\n",
    "noOfPoints = []\n",
    "def testBF(numOfPoints):\n",
    "    ps = PointSet()\n",
    "    for i in range(numOfPoints):\n",
    "        p = Point(random.randint(1, 2000), random.randint(1, 2000))\n",
    "        ps.insert(p)\n",
    "    r = ps.closetPointBF(ps.items)\n",
    "    \n",
    "def testDC(numOfPoints):\n",
    "    ps = PointSet()\n",
    "    for i in range(numOfPoints):\n",
    "        p = Point(random.randint(1, 2000), random.randint(1, 2000))\n",
    "        ps.insert(p)\n",
    "    r = ps.closePairOfPointsDandC(ps.items)\n",
    "\n",
    "if __name__=='__main__':\n",
    "    from timeit import Timer\n",
    "    numOfPoints = 1000\n",
    "    for numOfPoints in range(10, 1000, 10):\n",
    "        tBF = Timer(lambda: testBF(numOfPoints)).timeit(number=1)\n",
    "        tDC = Timer(lambda: testDC(numOfPoints)).timeit(number=1)\n",
    "        bfTime.append(tBF)\n",
    "        dncTime.append(tDC)\n",
    "        noOfPoints.append(numOfPoints)\n",
    "    print(\"The list of numbers of points for testing:\", noOfPoints)\n",
    "    print(\"The time cost by using brute-force algorithm:\", bfTime)\n",
    "    print(\"The time cost by using divide-and-conquer algorithm:\", dncTime)"
   ]
  },
  {
   "cell_type": "code",
   "execution_count": 27,
   "metadata": {},
   "outputs": [
    {
     "data": {
      "image/png": "[encoded data removed]",
      "text/plain": [
       "<matplotlib.figure.Figure at 0x10b7e8860>"
      ]
     },
     "metadata": {},
     "output_type": "display_data"
    }
   ],
   "source": [
    "plt.plot(noOfPoints, bfTime , 'r-' , label='Brute-Force', linewidth=1)\n",
    "plt.plot(noOfPoints, dncTime , 'b-' , label='Divide-and-Conquer', linewidth=1)\n",
    "plt.ylabel('Execution time')\n",
    "plt.xlabel('Number of points')\n",
    "plt.legend(loc='upper left')\n",
    "plt.show()"
   ]
  },
  {
   "cell_type": "markdown",
   "metadata": {},
   "source": [
    "From the picture above we can easily find that, with the increasing of the number of points, **the time that used by using \"Brute-Force\" is quite longer than the \"Divide-and-Conquer\"**. The graph of the execution time of the \"Brute-Force\" one is like the the function of y = x^2, which is like the time complexity (**O(n^)**) of it. While the \"Divide-and-Conquer\"'s graph fits the graph of function y = nlogn, which can be said as \"substantiating my expectations\" that the time complexity of \"Divide-and-Conquer\" is **O(nlogn)**."
   ]
  },
  {
   "cell_type": "markdown",
   "metadata": {},
   "source": [
    "### Define the runtime recurrence relation that would arise if you would not pass sorted lists down the recursion but instead would sort the lists explicitly on each level of the recursion"
   ]
  },
  {
   "cell_type": "markdown",
   "metadata": {},
   "source": [
    "As we discussed during the lecture before, the runtime recurrence relation of passing \"pre-sorting\" lists to the function is like: \n",
    "\n",
    "* T(1) = O(1)\n",
    "* T(n) = 2\\*T(n/2) + O(n) + O(1) + O(n) + O(1)\n",
    "\n",
    "And actually, when we are trying to use \"sorted()\" function inside the \"Divide-and-Conquer\" algorithm, which is using the \"TimSort\" algorithm and its worst case time complexity is O(nlogn), so the runtime recurrence relation should be like:\n",
    "\n",
    "* T(1) = O(1)\n",
    "* T(n) = 2 \\* T(n/2) + O(n) + O(1) + O(n) + O(1) + 3 \\* O(nlogn)\n",
    "\n",
    "so:\n",
    "* T(n) = k \\* T(n/k) + 3(k - 1)O(nlogn)\n",
    "\n",
    "as a result, the time complexity of \"Divide-and-Conquer\" funtion should be ** O(nlogn) ** "
   ]
  },
  {
   "cell_type": "code",
   "execution_count": null,
   "metadata": {
    "collapsed": true
   },
   "outputs": [],
   "source": []
  }
 ],
 "metadata": {
  "kernelspec": {
   "display_name": "Python 3",
   "language": "python",
   "name": "python3"
  },
  "language_info": {
   "codemirror_mode": {
    "name": "ipython",
    "version": 3
   },
   "file_extension": ".py",
   "mimetype": "text/x-python",
   "name": "python",
   "nbconvert_exporter": "python",
   "pygments_lexer": "ipython3",
   "version": "3.6.1"
  }
 },
 "nbformat": 4,
 "nbformat_minor": 2
}
