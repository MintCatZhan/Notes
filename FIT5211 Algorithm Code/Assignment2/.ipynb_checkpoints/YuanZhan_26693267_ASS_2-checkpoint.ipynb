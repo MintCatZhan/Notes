{
 "cells": [
  {
   "cell_type": "markdown",
   "metadata": {},
   "source": [
    "#### 1. Using the ADT class for points in 2-dimensional Euclidean space from before, implement a function to generate a test set of n random nodes/points, where n is a user-definable parameter."
   ]
  },
  {
   "cell_type": "markdown",
   "metadata": {},
   "source": [
    "import necessary library"
   ]
  },
  {
   "cell_type": "code",
   "execution_count": 78,
   "metadata": {
    "collapsed": true
   },
   "outputs": [],
   "source": [
    "from math import *\n",
    "import sys\n",
    "import random"
   ]
  },
  {
   "cell_type": "markdown",
   "metadata": {},
   "source": [
    "The ADT class of Point in 2-dimensional space"
   ]
  },
  {
   "cell_type": "code",
   "execution_count": 79,
   "metadata": {
    "collapsed": true
   },
   "outputs": [],
   "source": [
    "class Point:\n",
    "    def __init__(self,Range):\n",
    "        #Defines x and y with random number with a given range\n",
    "        self.x = random.randint(1, Range)\n",
    "        self.y = random.randint(1, Range)\n",
    "\n",
    "    def distance_from_origin(self):\n",
    "        return sqrt(self.x * self.x + self.y * self.y)\n",
    "\n",
    "    def distance(self, other):\n",
    "        dx = self.x - other.x\n",
    "        dy = self.y - other.y\n",
    "        return round(sqrt(dx * dx + dy * dy), 2)\n",
    "\n",
    "    def translate(self, dx, dy):\n",
    "        self.x += dx\n",
    "        self.y += dy\n",
    "\n",
    "    def display(self):\n",
    "        return (self.x, self.y)"
   ]
  },
  {
   "cell_type": "markdown",
   "metadata": {},
   "source": [
    "The ADT class for Points Set in 2-dimensional space"
   ]
  },
  {
   "cell_type": "code",
   "execution_count": 80,
   "metadata": {
    "collapsed": true
   },
   "outputs": [],
   "source": [
    "class PointSet:\n",
    "    def __init__(self):\n",
    "        self.items = []\n",
    "\n",
    "    def insert(self, x):\n",
    "        self.items.append(x)\n",
    "\n",
    "    def delete(self, x):\n",
    "        self.items.remove(x)\n",
    "    \n",
    "    def __str__(self):\n",
    "        content = \"\"\n",
    "        for i in self.items:\n",
    "            content = content + str(i)\n",
    "        return content\n",
    "    \n",
    "    # Generate a test set of n random nodes/points, \n",
    "    # where n is a user-definable parameter\n",
    "    def generateTestSet(self, n):\n",
    "        for n in range(n):\n",
    "            self.insert(Point(10))\n",
    "        return self.items"
   ]
  },
  {
   "cell_type": "markdown",
   "metadata": {},
   "source": [
    "#### 2. Implement an ADT class for Partition (union-find)."
   ]
  },
  {
   "cell_type": "code",
   "execution_count": 100,
   "metadata": {},
   "outputs": [],
   "source": [
    "class Partition:\n",
    "    def __init__(self):\n",
    "        self.parent = dict()\n",
    "        self.rank = dict()\n",
    "        \n",
    "    def make_set(self, vertice): \n",
    "        # initializae the vertice\n",
    "        self.parent[vertice] = vertice\n",
    "        self.rank[vertice] = 0\n",
    "\n",
    "    def find(self, vertice):\n",
    "        # using for finding the root node\n",
    "        if self.parent[vertice] == vertice:\n",
    "            return vertice\n",
    "        else:\n",
    "            # path compression\n",
    "            self.parent[vertice] = self.find(self.parent[vertice])\n",
    "            return self.parent[vertice]\n",
    "\n",
    "    def union(self, x, y):\n",
    "        #implement code here\n",
    "        rootX = self.find(x)\n",
    "        rootY = self.find(y)\n",
    "        if rootX != rootY:\n",
    "            if self.rank[rootX] > self.rank[rootY]:\n",
    "                self.parent[rootY] = rootX\n",
    "            else:\n",
    "                self.parent[rootX] = rootY\n",
    "                if self.rank[rootX] == self.rank[rootY]:\n",
    "                    self.rank[rootY] += 1\n",
    "\n",
    "    def kruskal(self, graph):\n",
    "        #implement code here\n",
    "        for vertice in graph['vertices']: \n",
    "            self.make_set(vertice)\n",
    "        \n",
    "        F = list()\n",
    "        \n",
    "        edges = [i for i in graph['edges']]\n",
    "        edges.sort(key = lambda x: x[0])\n",
    "        for edge in edges:\n",
    "            weight, verticeStart, verticeEnd = edge\n",
    "            if self.find(verticeStart) != self.find(verticeEnd):\n",
    "                self.union(verticeStart, verticeEnd)\n",
    "                F.append(edge)\n",
    "        return F\n",
    "    \n",
    "    \n",
    "    \n",
    "    # question 5, stops when k clusters have been achieved and return those clusters\n",
    "    def k_clustering(self, graph, k):\n",
    "        #implement code here\n",
    "        for vertice in graph['vertices']: \n",
    "            self.make_set(vertice)\n",
    "        if k < 1:\n",
    "            k = 1\n",
    "        F = list()\n",
    "        currentNumOfCluster = len(graph['vertices'])\n",
    "        edges = [i for i in graph['edges']]\n",
    "        edges.sort(key = lambda x: x[0])\n",
    "        for edge in edges:\n",
    "            weight, verticeStart, verticeEnd = edge\n",
    "            if self.find(verticeStart) != self.find(verticeEnd):\n",
    "                self.union(verticeStart, verticeEnd)\n",
    "                currentNumOfCluster = currentNumOfCluster - 1\n",
    "                F.append(edge)\n",
    "                \n",
    "            if currentNumOfCluster == k:\n",
    "                return F\n",
    "            \n",
    "        return F\n",
    "    \n",
    "    \n",
    "    def isSame(self, graph, k, pt1, pt2):\n",
    "        self.k_clustering(graph, k)\n",
    "        if self.find(pt1) == self.find(pt2):\n",
    "            print(pt1.display(), 'and', pt2.display(),'belong to the SAME cluster')\n",
    "            return True\n",
    "        else:\n",
    "            print(pt1.display(), 'and', pt2.display(),'belong to DIFFERENT cluster')\n",
    "            return False"
   ]
  },
  {
   "cell_type": "markdown",
   "metadata": {},
   "source": [
    "#### 3. Using the Partition ADT and test data function that you wrote for the first two tasks, implement the clustering procedure described above."
   ]
  },
  {
   "cell_type": "markdown",
   "metadata": {},
   "source": [
    "3.1 Use the \"Generate test data\" function to get testing data"
   ]
  },
  {
   "cell_type": "code",
   "execution_count": 82,
   "metadata": {
    "collapsed": true
   },
   "outputs": [],
   "source": [
    "ps = PointSet()\n",
    "listOfPoints = ps.generateTestSet(10)"
   ]
  },
  {
   "cell_type": "markdown",
   "metadata": {},
   "source": [
    "3.2 Check if testing data has been generated"
   ]
  },
  {
   "cell_type": "code",
   "execution_count": 83,
   "metadata": {},
   "outputs": [
    {
     "name": "stdout",
     "output_type": "stream",
     "text": [
      "(1, 7)\n",
      "(8, 3)\n",
      "(8, 10)\n",
      "(3, 1)\n",
      "(3, 7)\n",
      "(10, 5)\n",
      "(1, 3)\n",
      "(8, 3)\n",
      "(5, 10)\n",
      "(6, 6)\n"
     ]
    }
   ],
   "source": [
    "for p in listOfPoints:\n",
    "    print(p.display())"
   ]
  },
  {
   "cell_type": "markdown",
   "metadata": {},
   "source": [
    "3.3 Based on the testing data, generate the graph, which is in the format of dictionary that contains \"vertices\" and \"edges\"."
   ]
  },
  {
   "cell_type": "code",
   "execution_count": 84,
   "metadata": {
    "collapsed": true
   },
   "outputs": [],
   "source": [
    "graph = dict()\n",
    "graph['vertices'] = listOfPoints\n",
    "edgeList = []\n",
    "for i in range(0, len(listOfPoints) - 1):\n",
    "    for j in range(i + 1, len(listOfPoints)):\n",
    "        # e in the formate of (weight, verticeStart, verticeEnd)\n",
    "        e = (listOfPoints[i].distance(listOfPoints[j]), listOfPoints[i], listOfPoints[j])\n",
    "        edgeList.append(e)\n",
    "graph['edges'] = edgeList"
   ]
  },
  {
   "cell_type": "markdown",
   "metadata": {},
   "source": [
    "3.4 Check if the graph has been generated successfully."
   ]
  },
  {
   "cell_type": "code",
   "execution_count": 85,
   "metadata": {},
   "outputs": [
    {
     "name": "stdout",
     "output_type": "stream",
     "text": [
      "8.06 (1, 7) (8, 3)\n",
      "7.62 (1, 7) (8, 10)\n",
      "6.32 (1, 7) (3, 1)\n",
      "2.0 (1, 7) (3, 7)\n",
      "9.22 (1, 7) (10, 5)\n",
      "4.0 (1, 7) (1, 3)\n",
      "8.06 (1, 7) (8, 3)\n",
      "5.0 (1, 7) (5, 10)\n",
      "5.1 (1, 7) (6, 6)\n",
      "7.0 (8, 3) (8, 10)\n",
      "5.39 (8, 3) (3, 1)\n",
      "6.4 (8, 3) (3, 7)\n",
      "2.83 (8, 3) (10, 5)\n",
      "7.0 (8, 3) (1, 3)\n",
      "0.0 (8, 3) (8, 3)\n",
      "7.62 (8, 3) (5, 10)\n",
      "3.61 (8, 3) (6, 6)\n",
      "10.3 (8, 10) (3, 1)\n",
      "5.83 (8, 10) (3, 7)\n",
      "5.39 (8, 10) (10, 5)\n",
      "9.9 (8, 10) (1, 3)\n",
      "7.0 (8, 10) (8, 3)\n",
      "3.0 (8, 10) (5, 10)\n",
      "4.47 (8, 10) (6, 6)\n",
      "6.0 (3, 1) (3, 7)\n",
      "8.06 (3, 1) (10, 5)\n",
      "2.83 (3, 1) (1, 3)\n",
      "5.39 (3, 1) (8, 3)\n",
      "9.22 (3, 1) (5, 10)\n",
      "5.83 (3, 1) (6, 6)\n",
      "7.28 (3, 7) (10, 5)\n",
      "4.47 (3, 7) (1, 3)\n",
      "6.4 (3, 7) (8, 3)\n",
      "3.61 (3, 7) (5, 10)\n",
      "3.16 (3, 7) (6, 6)\n",
      "9.22 (10, 5) (1, 3)\n",
      "2.83 (10, 5) (8, 3)\n",
      "7.07 (10, 5) (5, 10)\n",
      "4.12 (10, 5) (6, 6)\n",
      "7.0 (1, 3) (8, 3)\n",
      "8.06 (1, 3) (5, 10)\n",
      "5.83 (1, 3) (6, 6)\n",
      "7.62 (8, 3) (5, 10)\n",
      "3.61 (8, 3) (6, 6)\n",
      "4.12 (5, 10) (6, 6)\n"
     ]
    }
   ],
   "source": [
    "for e in graph['edges']:\n",
    "    print(e[0], e[1].display(), e[2].display())"
   ]
  },
  {
   "cell_type": "markdown",
   "metadata": {},
   "source": [
    "3.5 Use the Partition ADT to implement the clustering procedure."
   ]
  },
  {
   "cell_type": "code",
   "execution_count": 86,
   "metadata": {},
   "outputs": [
    {
     "name": "stdout",
     "output_type": "stream",
     "text": [
      "0.0 (8, 3) (8, 3)\n",
      "2.0 (1, 7) (3, 7)\n",
      "2.83 (8, 3) (10, 5)\n",
      "2.83 (3, 1) (1, 3)\n",
      "3.0 (8, 10) (5, 10)\n",
      "3.16 (3, 7) (6, 6)\n",
      "3.61 (8, 3) (6, 6)\n",
      "3.61 (3, 7) (5, 10)\n",
      "4.0 (1, 7) (1, 3)\n"
     ]
    }
   ],
   "source": [
    "partition = Partition()\n",
    "res = partition.kruskal(graph)\n",
    "for r in res:\n",
    "    print(r[0], r[1].display(), r[2].display())"
   ]
  },
  {
   "cell_type": "markdown",
   "metadata": {},
   "source": [
    "#### 4. Extend your forest-based Partition ADT class from above with path compression."
   ]
  },
  {
   "cell_type": "markdown",
   "metadata": {},
   "source": [
    "The find() operation above traverses up from vertice to find root. The idea of path compression is to make the found root as parent of x so that we don’t have to traverse all intermediate nodes again. From the code above we can easily find that the path compression has already been achieved."
   ]
  },
  {
   "cell_type": "markdown",
   "metadata": {},
   "source": [
    "#### 5. Extend your implementation such that it stops when k clusters have been achieved and return those clusters, where k is a user-defined parameter."
   ]
  },
  {
   "cell_type": "markdown",
   "metadata": {},
   "source": [
    "We can easily find that everytime we add an edge, the number of clusters will be reduced by 1. (i.e. the original number of clusters in a **n-points-and-no-edge** graph should be n, when we add an edge, the number of clusters will be n-1)"
   ]
  },
  {
   "cell_type": "markdown",
   "metadata": {},
   "source": [
    "Based on the rule mentioned above, we can track the number of clusters when we use kruskal algorithm, once the number of clusters equals to the value we want, we stop execution and return the result."
   ]
  },
  {
   "cell_type": "markdown",
   "metadata": {},
   "source": [
    "The extended code can be found from the above class of Partition, the function is named as **`k_clustering`**."
   ]
  },
  {
   "cell_type": "markdown",
   "metadata": {},
   "source": [
    "Test if **`k_clustering`** funciton works:"
   ]
  },
  {
   "cell_type": "code",
   "execution_count": 91,
   "metadata": {},
   "outputs": [
    {
     "name": "stdout",
     "output_type": "stream",
     "text": [
      "0.0 (8, 3) (8, 3)\n",
      "2.0 (1, 7) (3, 7)\n",
      "2.83 (8, 3) (10, 5)\n",
      "2.83 (3, 1) (1, 3)\n",
      "3.0 (8, 10) (5, 10)\n"
     ]
    }
   ],
   "source": [
    "partition = Partition()\n",
    "resKcluster = partition.k_clustering(graph, 5)\n",
    "for r in resKcluster:\n",
    "    print(r[0], r[1].display(), r[2].display())"
   ]
  },
  {
   "cell_type": "markdown",
   "metadata": {},
   "source": [
    "#### 6. Implement fucntions/methods to let the user query whether two given points (nodes) belong to the same cluster."
   ]
  },
  {
   "cell_type": "code",
   "execution_count": 101,
   "metadata": {},
   "outputs": [
    {
     "name": "stdout",
     "output_type": "stream",
     "text": [
      "(1, 7) and (8, 3) belong to DIFFERENT cluster\n"
     ]
    },
    {
     "data": {
      "text/plain": [
       "False"
      ]
     },
     "execution_count": 101,
     "metadata": {},
     "output_type": "execute_result"
    }
   ],
   "source": [
    "partition = Partition()\n",
    "partition.isSame(graph, 5, graph['vertices'][0], graph['vertices'][1])"
   ]
  },
  {
   "cell_type": "code",
   "execution_count": null,
   "metadata": {
    "collapsed": true
   },
   "outputs": [],
   "source": []
  }
 ],
 "metadata": {
  "kernelspec": {
   "display_name": "Python 3",
   "language": "python",
   "name": "python3"
  },
  "language_info": {
   "codemirror_mode": {
    "name": "ipython",
    "version": 3
   },
   "file_extension": ".py",
   "mimetype": "text/x-python",
   "name": "python",
   "nbconvert_exporter": "python",
   "pygments_lexer": "ipython3",
   "version": "3.6.1"
  }
 },
 "nbformat": 4,
 "nbformat_minor": 2
}
