{
 "cells": [
  {
   "cell_type": "markdown",
   "metadata": {},
   "source": [
    "#### 1. Using the ADT class for points in 2-dimensional Euclidean space from before, implement a function to generate a test set of n random nodes/points, where n is a user-definable parameter."
   ]
  },
  {
   "cell_type": "markdown",
   "metadata": {},
   "source": [
    "import necessary library"
   ]
  },
  {
   "cell_type": "code",
   "execution_count": 59,
   "metadata": {
    "collapsed": true
   },
   "outputs": [],
   "source": [
    "from math import *\n",
    "import sys\n",
    "import random"
   ]
  },
  {
   "cell_type": "markdown",
   "metadata": {},
   "source": [
    "The ADT class of Point in 2-dimensional space"
   ]
  },
  {
   "cell_type": "code",
   "execution_count": 60,
   "metadata": {
    "collapsed": true
   },
   "outputs": [],
   "source": [
    "class Point:\n",
    "    def __init__(self,Range):\n",
    "        #Defines x and y with random number with a given range\n",
    "        self.x = random.randint(1, Range)\n",
    "        self.y = random.randint(1, Range)\n",
    "\n",
    "    def distance_from_origin(self):\n",
    "        return sqrt(self.x * self.x + self.y * self.y)\n",
    "\n",
    "    def distance(self, other):\n",
    "        dx = self.x - other.x\n",
    "        dy = self.y - other.y\n",
    "        return round(sqrt(dx * dx + dy * dy), 2)\n",
    "\n",
    "    def translate(self, dx, dy):\n",
    "        self.x += dx\n",
    "        self.y += dy\n",
    "\n",
    "    def display(self):\n",
    "        return (self.x, self.y)"
   ]
  },
  {
   "cell_type": "markdown",
   "metadata": {},
   "source": [
    "The ADT class for Points Set in 2-dimensional space"
   ]
  },
  {
   "cell_type": "code",
   "execution_count": 61,
   "metadata": {
    "collapsed": true
   },
   "outputs": [],
   "source": [
    "class PointSet:\n",
    "    def __init__(self):\n",
    "        self.items = []\n",
    "\n",
    "    def insert(self, x):\n",
    "        self.items.append(x)\n",
    "\n",
    "    def delete(self, x):\n",
    "        self.items.remove(x)\n",
    "    \n",
    "    def __str__(self):\n",
    "        content = \"\"\n",
    "        for i in self.items:\n",
    "            content = content + str(i)\n",
    "        return content\n",
    "    \n",
    "    # Generate a test set of n random nodes/points, \n",
    "    # where n is a user-definable parameter\n",
    "    def generateTestSet(self, n):\n",
    "        for n in range(n):\n",
    "            self.insert(Point(100))\n",
    "        return self.items"
   ]
  },
  {
   "cell_type": "markdown",
   "metadata": {},
   "source": [
    "#### 2. Implement an ADT class for Partition (union-find)."
   ]
  },
  {
   "cell_type": "code",
   "execution_count": 62,
   "metadata": {},
   "outputs": [],
   "source": [
    "class Partition:\n",
    "    def __init__(self):\n",
    "        self.parent = dict()\n",
    "        self.rank = dict()\n",
    "        \n",
    "    def make_set(self, vertice): \n",
    "        # initializae the vertice\n",
    "        #implement code here\n",
    "        self.parent[vertice] = vertice\n",
    "        self.rank[vertice] = 0\n",
    "\n",
    "    def find(self, vertice):\n",
    "        # using for finding the root node\n",
    "        #implement code here\n",
    "        if self.parent[vertice] == vertice:\n",
    "            return vertice\n",
    "        else:\n",
    "            # path compression\n",
    "            self.parent[vertice] = self.find(self.parent[vertice])\n",
    "            return self.parent[vertice]\n",
    "\n",
    "    def union(self, x, y):\n",
    "        #implement code here\n",
    "        rootX = self.find(x)\n",
    "        rootY = self.find(y)\n",
    "        if rootX != rootY:\n",
    "            if self.rank[rootX] > self.rank[rootY]:\n",
    "                self.parent[rootY] = rootX\n",
    "            else:\n",
    "                self.parent[rootX] = rootY\n",
    "                if self.rank[rootX] == self.rank[rootY]:\n",
    "                    self.rank[rootY] += 1\n",
    "\n",
    "    def kruskal(self, graph):\n",
    "        #implement code here\n",
    "        for vertice in graph['vertices']: \n",
    "            self.make_set(vertice)\n",
    "        \n",
    "        F = list()\n",
    "        \n",
    "        edges = [i for i in graph['edges']]\n",
    "        edges.sort(key = lambda x: x[0])\n",
    "        for edge in edges:\n",
    "            weight, verticeStart, verticeEnd = edge\n",
    "            if self.find(verticeStart) != self.find(verticeEnd):\n",
    "                self.union(verticeStart, verticeEnd)\n",
    "                F.append(edge)\n",
    "        return F"
   ]
  },
  {
   "cell_type": "markdown",
   "metadata": {},
   "source": [
    "#### 3. Using the Partition ADT and test data function that you wrote for the first two tasks, implement the clustering procedure described above."
   ]
  },
  {
   "cell_type": "markdown",
   "metadata": {},
   "source": [
    "3.1 Use the \"Generate test data\" function to get testing data"
   ]
  },
  {
   "cell_type": "code",
   "execution_count": 63,
   "metadata": {
    "collapsed": true
   },
   "outputs": [],
   "source": [
    "ps = PointSet()\n",
    "listOfPoints = ps.generateTestSet(10)"
   ]
  },
  {
   "cell_type": "markdown",
   "metadata": {},
   "source": [
    "3.2 Check if testing data has been generated"
   ]
  },
  {
   "cell_type": "code",
   "execution_count": 64,
   "metadata": {},
   "outputs": [
    {
     "name": "stdout",
     "output_type": "stream",
     "text": [
      "(7, 23)\n",
      "(96, 71)\n",
      "(33, 37)\n",
      "(55, 74)\n",
      "(6, 39)\n",
      "(96, 34)\n",
      "(17, 50)\n",
      "(57, 20)\n",
      "(76, 28)\n",
      "(54, 11)\n"
     ]
    }
   ],
   "source": [
    "for p in listOfPoints:\n",
    "    print(p.display())"
   ]
  },
  {
   "cell_type": "markdown",
   "metadata": {},
   "source": [
    "3.3 Based on the testing data, generate the graph, which is in the format of dictionary that contains \"vertices\" and \"edges\"."
   ]
  },
  {
   "cell_type": "code",
   "execution_count": 65,
   "metadata": {},
   "outputs": [],
   "source": [
    "graph = dict()\n",
    "graph['vertices'] = listOfPoints\n",
    "edgeList = []\n",
    "for i in range(0, len(listOfPoints) - 1):\n",
    "    for j in range(i + 1, len(listOfPoints)):\n",
    "        # e in the formate of (weight, verticeStart, verticeEnd)\n",
    "        e = (listOfPoints[i].distance(listOfPoints[j]), listOfPoints[i], listOfPoints[j])\n",
    "        edgeList.append(e)\n",
    "graph['edges'] = edgeList"
   ]
  },
  {
   "cell_type": "markdown",
   "metadata": {},
   "source": [
    "3.4 Check if the graph has been generated successfully."
   ]
  },
  {
   "cell_type": "code",
   "execution_count": 66,
   "metadata": {},
   "outputs": [
    {
     "name": "stdout",
     "output_type": "stream",
     "text": [
      "101.12 (7, 23) (96, 71)\n",
      "29.53 (7, 23) (33, 37)\n",
      "70.04 (7, 23) (55, 74)\n",
      "16.03 (7, 23) (6, 39)\n",
      "89.68 (7, 23) (96, 34)\n",
      "28.79 (7, 23) (17, 50)\n",
      "50.09 (7, 23) (57, 20)\n",
      "69.18 (7, 23) (76, 28)\n",
      "48.51 (7, 23) (54, 11)\n",
      "71.59 (96, 71) (33, 37)\n",
      "41.11 (96, 71) (55, 74)\n",
      "95.52 (96, 71) (6, 39)\n",
      "37.0 (96, 71) (96, 34)\n",
      "81.74 (96, 71) (17, 50)\n",
      "64.2 (96, 71) (57, 20)\n",
      "47.42 (96, 71) (76, 28)\n",
      "73.24 (96, 71) (54, 11)\n",
      "43.05 (33, 37) (55, 74)\n",
      "27.07 (33, 37) (6, 39)\n",
      "63.07 (33, 37) (96, 34)\n",
      "20.62 (33, 37) (17, 50)\n",
      "29.41 (33, 37) (57, 20)\n",
      "43.93 (33, 37) (76, 28)\n",
      "33.42 (33, 37) (54, 11)\n",
      "60.22 (55, 74) (6, 39)\n",
      "57.28 (55, 74) (96, 34)\n",
      "44.94 (55, 74) (17, 50)\n",
      "54.04 (55, 74) (57, 20)\n",
      "50.57 (55, 74) (76, 28)\n",
      "63.01 (55, 74) (54, 11)\n",
      "90.14 (6, 39) (96, 34)\n",
      "15.56 (6, 39) (17, 50)\n",
      "54.42 (6, 39) (57, 20)\n",
      "70.86 (6, 39) (76, 28)\n",
      "55.57 (6, 39) (54, 11)\n",
      "80.6 (96, 34) (17, 50)\n",
      "41.44 (96, 34) (57, 20)\n",
      "20.88 (96, 34) (76, 28)\n",
      "47.89 (96, 34) (54, 11)\n",
      "50.0 (17, 50) (57, 20)\n",
      "62.97 (17, 50) (76, 28)\n",
      "53.76 (17, 50) (54, 11)\n",
      "20.62 (57, 20) (76, 28)\n",
      "9.49 (57, 20) (54, 11)\n",
      "27.8 (76, 28) (54, 11)\n"
     ]
    }
   ],
   "source": [
    "for e in graph['edges']:\n",
    "    print(e[0], e[1].display(), e[2].display())"
   ]
  },
  {
   "cell_type": "markdown",
   "metadata": {},
   "source": [
    "3.5 Use the Partition ADT to implement the clustering procedure."
   ]
  },
  {
   "cell_type": "code",
   "execution_count": 67,
   "metadata": {},
   "outputs": [
    {
     "name": "stdout",
     "output_type": "stream",
     "text": [
      "9.49 (57, 20) (54, 11)\n",
      "15.56 (6, 39) (17, 50)\n",
      "16.03 (7, 23) (6, 39)\n",
      "20.62 (33, 37) (17, 50)\n",
      "20.62 (57, 20) (76, 28)\n",
      "20.88 (96, 34) (76, 28)\n",
      "29.41 (33, 37) (57, 20)\n",
      "37.0 (96, 71) (96, 34)\n",
      "41.11 (96, 71) (55, 74)\n"
     ]
    }
   ],
   "source": [
    "partition = Partition()\n",
    "res = partition.kruskal(graph)\n",
    "for r in res:\n",
    "    print(r[0], r[1].display(), r[2].display())"
   ]
  }
 ],
 "metadata": {
  "kernelspec": {
   "display_name": "Python 3",
   "language": "python",
   "name": "python3"
  },
  "language_info": {
   "codemirror_mode": {
    "name": "ipython",
    "version": 3
   },
   "file_extension": ".py",
   "mimetype": "text/x-python",
   "name": "python",
   "nbconvert_exporter": "python",
   "pygments_lexer": "ipython3",
   "version": "3.6.1"
  }
 },
 "nbformat": 4,
 "nbformat_minor": 2
}
