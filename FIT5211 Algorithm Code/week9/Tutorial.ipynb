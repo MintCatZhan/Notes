{
 "cells": [
  {
   "cell_type": "code",
   "execution_count": 8,
   "metadata": {},
   "outputs": [
    {
     "name": "stdout",
     "output_type": "stream",
     "text": [
      "{(18, 'G', 'F'), (8, 'B', 'C'), (3, 'A', 'E'), (99, 'A', 'B'), (9, 'D', 'H'), (2, 'C', 'F'), (8, 'B', 'F'), (9, 'G', 'H')}\n"
     ]
    },
    {
     "data": {
      "text/plain": [
       "{(2, 'C', 'F'),\n",
       " (3, 'A', 'E'),\n",
       " (8, 'B', 'C'),\n",
       " (9, 'D', 'H'),\n",
       " (9, 'G', 'H'),\n",
       " (18, 'G', 'F'),\n",
       " (99, 'A', 'B')}"
      ]
     },
     "execution_count": 8,
     "metadata": {},
     "output_type": "execute_result"
    }
   ],
   "source": [
    "parent = dict()\n",
    "rank = dict()\n",
    "\n",
    "def make_set(vertice): \n",
    "    # initializae the vertice\n",
    "    #implement code here\n",
    "    parent[vertice] = vertice\n",
    "    rank[vertice] = 0\n",
    "\n",
    "def find(vertice):\n",
    "    # using for finding the root node\n",
    "    #implement code here\n",
    "    if parent[vertice] == vertice:\n",
    "        return vertice\n",
    "    else:\n",
    "        return find(parent[vertice])\n",
    "\n",
    "def union(x, y):\n",
    "    #implement code here\n",
    "    rootX = find(x)\n",
    "    rootY = find(y)\n",
    "    if rootX != rootY:\n",
    "        if rank[rootX] < rank[rootY]:\n",
    "            parent[rootY] = rootX\n",
    "            print(\"inside\")\n",
    "        else:\n",
    "            parent[rootX] = rootY\n",
    "            if rank[rootX] == rank[rootY]:\n",
    "                rank[rootX] += 1\n",
    "\n",
    "def kruskal(graph):\n",
    "    #implement code here\n",
    "    for vertice in graph['vertices']: \n",
    "        make_set(vertice)\n",
    "        \n",
    "    F = set()\n",
    "    edges = [i for i in graph['edges']]\n",
    "    edges.sort()\n",
    "    for edge in edges:\n",
    "        weight, verticeStart, verticeEnd = edge\n",
    "        if find(verticeStart) != find(verticeEnd):\n",
    "            union(verticeStart, verticeEnd)\n",
    "            F.add(edge)\n",
    "        \n",
    "    return F\n",
    "\n",
    "# Test Undirected Graph \n",
    "graph = {\n",
    "'vertices': ['A', 'B', 'C', 'D', 'E', 'F', 'G', 'H'],\n",
    "'edges': set([\n",
    "(2, 'C', 'F'),\n",
    "(3, 'A', 'E'),\n",
    "(99, 'A', 'B'),\n",
    "(18, 'G', 'F'),\n",
    "(8, 'B', 'C'),\n",
    "(8, 'B', 'F'),\n",
    "(9, 'D', 'H'),\n",
    "(9, 'G', 'H')\n",
    "])\n",
    "}\n",
    "\n",
    "#Display Minimum Cost Spanning Tree\n",
    "print(graph['edges'])\n",
    "kruskal(graph)"
   ]
  },
  {
   "cell_type": "code",
   "execution_count": null,
   "metadata": {
    "collapsed": true
   },
   "outputs": [],
   "source": []
  },
  {
   "cell_type": "code",
   "execution_count": null,
   "metadata": {
    "collapsed": true
   },
   "outputs": [],
   "source": []
  },
  {
   "cell_type": "code",
   "execution_count": null,
   "metadata": {
    "collapsed": true
   },
   "outputs": [],
   "source": []
  }
 ],
 "metadata": {
  "kernelspec": {
   "display_name": "Python 3",
   "language": "python",
   "name": "python3"
  },
  "language_info": {
   "codemirror_mode": {
    "name": "ipython",
    "version": 3
   },
   "file_extension": ".py",
   "mimetype": "text/x-python",
   "name": "python",
   "nbconvert_exporter": "python",
   "pygments_lexer": "ipython3",
   "version": "3.6.1"
  }
 },
 "nbformat": 4,
 "nbformat_minor": 2
}
