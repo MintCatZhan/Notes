{
 "cells": [
  {
   "cell_type": "code",
   "execution_count": null,
   "metadata": {
    "collapsed": true
   },
   "outputs": [],
   "source": [
    "parent = dict()\n",
    "rank = dict()\n",
    "\n",
    "def make_set(vertice): \n",
    "    # initializae the vertice\n",
    "    #implement code here\n",
    "    parent[vertice] = vertice\n",
    "    rank[vertice] = 0\n",
    "\n",
    "def find(vertice):\n",
    "    # using for finding the root node\n",
    "    #implement code here\n",
    "    parent[vertice] = (parent[vertice] == vertice and vertices or find(vertices))\n",
    "    return parent[vertice]\n",
    "\n",
    "def union(x, y):\n",
    "    #implement code here\n",
    "    rootX = find(x)\n",
    "    rootY = find(y)\n",
    "    if rootX != rootY:\n",
    "        if rank[rootX] > rank[rootY]:\n",
    "            parent[rootY] = rootX\n",
    "        else:\n",
    "            parent[rootX] = rootY\n",
    "            if rank[rootX] == rank[rootY]:\n",
    "                rank[rootY] += 1\n",
    "\n",
    "def kruskal(graph):\n",
    "    #implement code here\n",
    "    for vertice in graph['vertices']: makeset(vertice)\n",
    "    F = set()\n",
    "    edges = [i for i in graph['edges']]\n",
    "    edges.sort()\n",
    "    for edge in edges:\n",
    "        weight, vertice1, vertice2 = edge\n",
    "        if find(vertice1) != find(vertice2):\n",
    "            union(vertice1, vertice2)\n",
    "            F.add(edge)\n",
    "    return F\n",
    "\n",
    "# Test Undirected Graph \n",
    "graph = {\n",
    "'vertices': ['A', 'B', 'C', 'D', 'E', 'F', 'G'],\n",
    "'edges': set([\n",
    "(7, 'A', 'B'),\n",
    "(8, 'B', 'C'),\n",
    "(9, 'B', 'D'),\n",
    "(5, 'C', 'E'),\n",
    "(5, 'D', 'A'),\n",
    "(7, 'E', 'B'),\n",
    "(15, 'E', 'D'),\n",
    "(8, 'E', 'F'),\n",
    "(6, 'F', 'D'),\n",
    "(9, 'G', 'E'),\n",
    "(11, 'G', 'F'),\n",
    "])\n",
    "}\n",
    "\n",
    "#Display Minimum Cost Spanning Tree\n",
    "kruskal(graph)"
   ]
  }
 ],
 "metadata": {
  "kernelspec": {
   "display_name": "Python 3",
   "language": "python",
   "name": "python3"
  },
  "language_info": {
   "codemirror_mode": {
    "name": "ipython",
    "version": 3
   },
   "file_extension": ".py",
   "mimetype": "text/x-python",
   "name": "python",
   "nbconvert_exporter": "python",
   "pygments_lexer": "ipython3",
   "version": "3.6.1"
  }
 },
 "nbformat": 4,
 "nbformat_minor": 2
}
