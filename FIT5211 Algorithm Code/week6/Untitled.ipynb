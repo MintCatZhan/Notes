{
 "cells": [
  {
   "cell_type": "code",
   "execution_count": 2,
   "metadata": {
    "collapsed": true
   },
   "outputs": [],
   "source": [
    "class BinaryTree:\n",
    "    def __init__(self, key):\n",
    "        self.key = key\n",
    "        self.leftChild = None\n",
    "        self.rightChild = None\n",
    "    def insertLeft(self, tree):\n",
    "        assert self.leftChild == None\n",
    "        self.leftChild = tree\n",
    "    def insertRight(self, tree):\n",
    "        assert self.rightChild == None\n",
    "        self.rightChild = tree"
   ]
  },
  {
   "cell_type": "code",
   "execution_count": 3,
   "metadata": {},
   "outputs": [
    {
     "name": "stdout",
     "output_type": "stream",
     "text": [
      "7\n"
     ]
    }
   ],
   "source": [
    "t1 = BinaryTree(12)\n",
    "t1.insertLeft(BinaryTree(5))\n",
    "t1.insertRight(BinaryTree(10))\n",
    "\n",
    "t2 = BinaryTree(8)\n",
    "t2.insertLeft(t1)\n",
    "t2.insertRight(BinaryTree(9))\n",
    "\n",
    "t3 = BinaryTree(7)\n",
    "t3.insertLeft(BinaryTree(5))\n",
    "t3.insertRight(BinaryTree(6))\n",
    "\n",
    "T1 = BinaryTree(7)\n",
    "T1.insertLeft(t2)\n",
    "T1.insertRight(t3)\n",
    "\n",
    "print(T1.key)"
   ]
  },
  {
   "cell_type": "code",
   "execution_count": 4,
   "metadata": {},
   "outputs": [
    {
     "name": "stdout",
     "output_type": "stream",
     "text": [
      "7\n"
     ]
    }
   ],
   "source": [
    "t4 = BinaryTree(12)\n",
    "t4.insertLeft(BinaryTree(5))\n",
    "t4.insertRight(BinaryTree(10))\n",
    "\n",
    "t5 = BinaryTree(8)\n",
    "t5.insertLeft(t4)\n",
    "\n",
    "t6 = BinaryTree(5).insertLeft(BinaryTree(5))\n",
    "t7 = BinaryTree(6).insertLeft(BinaryTree(10))\n",
    "\n",
    "t8 = BinaryTree(7)\n",
    "t8.insertLeft(t6)\n",
    "t8.insertRight(t7)\n",
    "\n",
    "T2 = BinaryTree(7)\n",
    "T2.insertLeft(t5)\n",
    "T2.insertRight(t7)\n",
    "\n",
    "print(T2.key)"
   ]
  },
  {
   "cell_type": "code",
   "execution_count": 5,
   "metadata": {},
   "outputs": [
    {
     "name": "stdout",
     "output_type": "stream",
     "text": [
      "7\n",
      "8\n",
      "12\n",
      "5\n",
      "10\n",
      "9\n",
      "7\n",
      "5\n",
      "6\n"
     ]
    }
   ],
   "source": [
    "def preorderPrint(bTree):\n",
    "    if bTree != None:\n",
    "        print(bTree.key)\n",
    "        preorderPrint(bTree.leftChild)\n",
    "        preorderPrint(bTree.rightChild)\n",
    "\n",
    "preorderPrint(T1)"
   ]
  },
  {
   "cell_type": "code",
   "execution_count": 6,
   "metadata": {},
   "outputs": [
    {
     "name": "stdout",
     "output_type": "stream",
     "text": [
      "5\n",
      "12\n",
      "10\n",
      "8\n",
      "9\n",
      "7\n",
      "5\n",
      "7\n",
      "6\n"
     ]
    }
   ],
   "source": [
    "def inorderPrint(bTree):\n",
    "    if bTree != None:\n",
    "        inorderPrint(bTree.leftChild)\n",
    "        print(bTree.key)\n",
    "        inorderPrint(bTree.rightChild)\n",
    "        \n",
    "inorderPrint(T1)"
   ]
  },
  {
   "cell_type": "code",
   "execution_count": 7,
   "metadata": {},
   "outputs": [
    {
     "name": "stdout",
     "output_type": "stream",
     "text": [
      "5\n",
      "10\n",
      "12\n",
      "9\n",
      "8\n",
      "5\n",
      "6\n",
      "7\n",
      "7\n"
     ]
    }
   ],
   "source": [
    "def postorderPrint(bTree):\n",
    "    if bTree != None:\n",
    "        postorderPrint(bTree.leftChild)\n",
    "        postorderPrint(bTree.rightChild)\n",
    "        print(bTree.key)\n",
    "        \n",
    "postorderPrint(T1)"
   ]
  },
  {
   "cell_type": "code",
   "execution_count": 8,
   "metadata": {},
   "outputs": [
    {
     "data": {
      "text/plain": [
       "3"
      ]
     },
     "execution_count": 8,
     "metadata": {},
     "output_type": "execute_result"
    }
   ],
   "source": [
    "def measureHeight(root):\n",
    "    if root == None:\n",
    "        return -1\n",
    "    else:\n",
    "        return max(measureHeight(root.leftChild), measureHeight(root.rightChild)) + 1\n",
    "\n",
    "measureHeight(T2)"
   ]
  },
  {
   "cell_type": "code",
   "execution_count": 16,
   "metadata": {},
   "outputs": [
    {
     "name": "stdout",
     "output_type": "stream",
     "text": [
      "1\n"
     ]
    }
   ],
   "source": [
    "import sys\n",
    "def findANode(root, v, level):\n",
    "    if root == None:\n",
    "        return 0\n",
    "    if root.key == v:\n",
    "        return level\n",
    "    lfLevel = findANode(root.leftChild, v, level + 1)\n",
    "    rgLevel = findANode(root.rightChild, v, level + 1)\n",
    "    if lfLevel != 0 and rgLevel != 0:\n",
    "        return min(lfLevel, rgLevel)\n",
    "    elif lfLevel != 0 and rgLevel == 0:\n",
    "        return lfLevel\n",
    "    elif rgLevel != 0 and lfLevel == 0:\n",
    "        return rgLevel\n",
    "    else:\n",
    "        return sys.maxsize\n",
    "\n",
    "def runner(root, v, level):\n",
    "    res = findANode(root, v, level)\n",
    "    height = measureHeight(root)\n",
    "    if res > height:\n",
    "        return None\n",
    "    else:\n",
    "        return res\n",
    "print(runner(T1, 8, 0))"
   ]
  },
  {
   "cell_type": "code",
   "execution_count": null,
   "metadata": {
    "collapsed": true
   },
   "outputs": [],
   "source": []
  },
  {
   "cell_type": "code",
   "execution_count": null,
   "metadata": {
    "collapsed": true
   },
   "outputs": [],
   "source": []
  },
  {
   "cell_type": "code",
   "execution_count": null,
   "metadata": {
    "collapsed": true
   },
   "outputs": [],
   "source": []
  }
 ],
 "metadata": {
  "kernelspec": {
   "display_name": "Python 3",
   "language": "python",
   "name": "python3"
  },
  "language_info": {
   "codemirror_mode": {
    "name": "ipython",
    "version": 3
   },
   "file_extension": ".py",
   "mimetype": "text/x-python",
   "name": "python",
   "nbconvert_exporter": "python",
   "pygments_lexer": "ipython3",
   "version": "3.6.1"
  }
 },
 "nbformat": 4,
 "nbformat_minor": 2
}
